{
  "nbformat": 4,
  "nbformat_minor": 0,
  "metadata": {
    "colab": {
      "provenance": [],
      "include_colab_link": true
    },
    "kernelspec": {
      "name": "python3",
      "display_name": "Python 3"
    },
    "language_info": {
      "name": "python"
    }
  },
  "cells": [
    {
      "cell_type": "markdown",
      "metadata": {
        "id": "view-in-github",
        "colab_type": "text"
      },
      "source": [
        "<a href=\"https://colab.research.google.com/github/TheodorSTTH/colabs/blob/main/Notebooks/Chap11/11_2_Residual_Networks.ipynb\" target=\"_parent\"><img src=\"https://colab.research.google.com/assets/colab-badge.svg\" alt=\"Open In Colab\"/></a>"
      ]
    },
    {
      "cell_type": "markdown",
      "source": [
        "# **Notebook 11.2: Residual Networks**\n",
        "\n",
        "This notebook adapts the networks for MNIST1D to use residual connections.\n",
        "\n",
        "Work through the cells below, running each cell in turn. In various places you will see the words \"TODO\". Follow the instructions at these places and make predictions about what is going to happen or write code to complete the functions.\n",
        "\n",
        "Contact me at udlbookmail@gmail.com if you find any mistakes or have any suggestions.\n",
        "\n"
      ],
      "metadata": {
        "id": "t9vk9Elugvmi"
      }
    },
    {
      "cell_type": "code",
      "source": [
        "# Run this if you're in a Colab to install MNIST 1D repository\n",
        "!pip install git+https://github.com/greydanus/mnist1d"
      ],
      "metadata": {
        "id": "D5yLObtZCi9J",
        "collapsed": true,
        "outputId": "8483d3bc-b308-40df-a758-1323ae330227",
        "colab": {
          "base_uri": "https://localhost:8080/"
        }
      },
      "execution_count": 1,
      "outputs": [
        {
          "output_type": "stream",
          "name": "stdout",
          "text": [
            "Collecting git+https://github.com/greydanus/mnist1d\n",
            "  Cloning https://github.com/greydanus/mnist1d to /tmp/pip-req-build-13pb3n55\n",
            "  Running command git clone --filter=blob:none --quiet https://github.com/greydanus/mnist1d /tmp/pip-req-build-13pb3n55\n",
            "  Resolved https://github.com/greydanus/mnist1d to commit 7878d96082abd200c546a07a4101fa90b30fdf7e\n",
            "  Installing build dependencies ... \u001b[?25l\u001b[?25hdone\n",
            "  Getting requirements to build wheel ... \u001b[?25l\u001b[?25hdone\n",
            "  Preparing metadata (pyproject.toml) ... \u001b[?25l\u001b[?25hdone\n",
            "Requirement already satisfied: requests in /usr/local/lib/python3.11/dist-packages (from mnist1d==0.0.2.post16) (2.32.3)\n",
            "Requirement already satisfied: numpy in /usr/local/lib/python3.11/dist-packages (from mnist1d==0.0.2.post16) (1.26.4)\n",
            "Requirement already satisfied: matplotlib in /usr/local/lib/python3.11/dist-packages (from mnist1d==0.0.2.post16) (3.10.0)\n",
            "Requirement already satisfied: scipy in /usr/local/lib/python3.11/dist-packages (from mnist1d==0.0.2.post16) (1.13.1)\n",
            "Requirement already satisfied: contourpy>=1.0.1 in /usr/local/lib/python3.11/dist-packages (from matplotlib->mnist1d==0.0.2.post16) (1.3.1)\n",
            "Requirement already satisfied: cycler>=0.10 in /usr/local/lib/python3.11/dist-packages (from matplotlib->mnist1d==0.0.2.post16) (0.12.1)\n",
            "Requirement already satisfied: fonttools>=4.22.0 in /usr/local/lib/python3.11/dist-packages (from matplotlib->mnist1d==0.0.2.post16) (4.56.0)\n",
            "Requirement already satisfied: kiwisolver>=1.3.1 in /usr/local/lib/python3.11/dist-packages (from matplotlib->mnist1d==0.0.2.post16) (1.4.8)\n",
            "Requirement already satisfied: packaging>=20.0 in /usr/local/lib/python3.11/dist-packages (from matplotlib->mnist1d==0.0.2.post16) (24.2)\n",
            "Requirement already satisfied: pillow>=8 in /usr/local/lib/python3.11/dist-packages (from matplotlib->mnist1d==0.0.2.post16) (11.1.0)\n",
            "Requirement already satisfied: pyparsing>=2.3.1 in /usr/local/lib/python3.11/dist-packages (from matplotlib->mnist1d==0.0.2.post16) (3.2.1)\n",
            "Requirement already satisfied: python-dateutil>=2.7 in /usr/local/lib/python3.11/dist-packages (from matplotlib->mnist1d==0.0.2.post16) (2.8.2)\n",
            "Requirement already satisfied: charset-normalizer<4,>=2 in /usr/local/lib/python3.11/dist-packages (from requests->mnist1d==0.0.2.post16) (3.4.1)\n",
            "Requirement already satisfied: idna<4,>=2.5 in /usr/local/lib/python3.11/dist-packages (from requests->mnist1d==0.0.2.post16) (3.10)\n",
            "Requirement already satisfied: urllib3<3,>=1.21.1 in /usr/local/lib/python3.11/dist-packages (from requests->mnist1d==0.0.2.post16) (2.3.0)\n",
            "Requirement already satisfied: certifi>=2017.4.17 in /usr/local/lib/python3.11/dist-packages (from requests->mnist1d==0.0.2.post16) (2025.1.31)\n",
            "Requirement already satisfied: six>=1.5 in /usr/local/lib/python3.11/dist-packages (from python-dateutil>=2.7->matplotlib->mnist1d==0.0.2.post16) (1.17.0)\n",
            "Building wheels for collected packages: mnist1d\n",
            "  Building wheel for mnist1d (pyproject.toml) ... \u001b[?25l\u001b[?25hdone\n",
            "  Created wheel for mnist1d: filename=mnist1d-0.0.2.post16-py3-none-any.whl size=14626 sha256=28963389295559611e4d1110cefa9d1c7e8edde2cbdd40ae7f22892fed6d2038\n",
            "  Stored in directory: /tmp/pip-ephem-wheel-cache-drvkf_j5/wheels/d6/38/42/3d2112bc7d915f6195254ac85eb761d922d1b18f52817aa8e2\n",
            "Successfully built mnist1d\n",
            "Installing collected packages: mnist1d\n",
            "Successfully installed mnist1d-0.0.2.post16\n"
          ]
        }
      ]
    },
    {
      "cell_type": "code",
      "source": [
        "import numpy as np\n",
        "import os\n",
        "import torch, torch.nn as nn\n",
        "from torch.utils.data import TensorDataset, DataLoader\n",
        "from torch.optim.lr_scheduler import StepLR\n",
        "import matplotlib.pyplot as plt\n",
        "import mnist1d\n",
        "import random"
      ],
      "metadata": {
        "id": "YrXWAH7sUWvU"
      },
      "execution_count": 2,
      "outputs": []
    },
    {
      "cell_type": "code",
      "source": [
        "args = mnist1d.data.get_dataset_args()\n",
        "data = mnist1d.data.get_dataset(args, path='./mnist1d_data.pkl', download=False, regenerate=False)\n",
        "\n",
        "# The training and test input and outputs are in\n",
        "# data['x'], data['y'], data['x_test'], and data['y_test']\n",
        "print(\"Examples in training set: {}\".format(len(data['y'])))\n",
        "print(\"Examples in test set: {}\".format(len(data['y_test'])))\n",
        "print(\"Length of each example: {}\".format(data['x'].shape[-1]))"
      ],
      "metadata": {
        "id": "twI72ZCrCt5z",
        "outputId": "ce26a14a-955e-4805-92d5-8aed26f6e6a2",
        "colab": {
          "base_uri": "https://localhost:8080/"
        }
      },
      "execution_count": 3,
      "outputs": [
        {
          "output_type": "stream",
          "name": "stdout",
          "text": [
            "Did or could not load data from ./mnist1d_data.pkl. Rebuilding dataset...\n",
            "Examples in training set: 4000\n",
            "Examples in test set: 1000\n",
            "Length of each example: 40\n"
          ]
        }
      ]
    },
    {
      "cell_type": "code",
      "source": [
        "# Load in the data\n",
        "train_data_x = data['x'].transpose()\n",
        "train_data_y = data['y']\n",
        "val_data_x = data['x_test'].transpose()\n",
        "val_data_y = data['y_test']\n",
        "# Print out sizes\n",
        "print(\"Train data: %d examples (columns), each of which has %d dimensions (rows)\"%((train_data_x.shape[1],train_data_x.shape[0])))\n",
        "print(\"Validation data: %d examples (columns), each of which has %d dimensions (rows)\"%((val_data_x.shape[1],val_data_x.shape[0])))"
      ],
      "metadata": {
        "id": "8bKADvLHbiV5",
        "outputId": "f0567937-9e3a-467b-b814-8338f6a08d30",
        "colab": {
          "base_uri": "https://localhost:8080/"
        }
      },
      "execution_count": 4,
      "outputs": [
        {
          "output_type": "stream",
          "name": "stdout",
          "text": [
            "Train data: 4000 examples (columns), each of which has 40 dimensions (rows)\n",
            "Validation data: 1000 examples (columns), each of which has 40 dimensions (rows)\n"
          ]
        }
      ]
    },
    {
      "cell_type": "markdown",
      "source": [
        "Define the network"
      ],
      "metadata": {
        "id": "_sFvRDGrl4qe"
      }
    },
    {
      "cell_type": "code",
      "source": [
        "# There are 40 input dimensions and 10 output dimensions for this data\n",
        "# The inputs correspond to the 40 offsets in the MNIST1D template.\n",
        "D_i = 40\n",
        "# The outputs correspond to the 10 digits\n",
        "D_o = 10\n",
        "\n",
        "\n",
        "# We will adapt this model to have residual connections around the linear layers\n",
        "# This is the same model we used in practical 8.1, but we can't use the sequential\n",
        "# class for residual networks (which aren't strictly sequential).  Hence, I've rewritten\n",
        "# it as a model that inherits from a base class\n",
        "\n",
        "class ResidualNetwork(torch.nn.Module):\n",
        "  def __init__(self, input_size, output_size, hidden_size=100):\n",
        "    super(ResidualNetwork, self).__init__()\n",
        "    self.linear1 = nn.Linear(input_size, hidden_size)\n",
        "    self.linear2 = nn.Linear(hidden_size, hidden_size)\n",
        "    self.linear3 = nn.Linear(hidden_size, hidden_size)\n",
        "    self.linear4 = nn.Linear(hidden_size, output_size)\n",
        "    print(\"Initialized MLPBase model with {} parameters\".format(self.count_params()))\n",
        "\n",
        "  def count_params(self):\n",
        "    return sum([p.view(-1).shape[0] for p in self.parameters()])\n",
        "\n",
        "# TODO -- Add residual connections to this model\n",
        "# The order of operations within each block should similar to figure 11.5b\n",
        "# ie., linear1 first, ReLU+linear2 in first residual block, ReLU+linear3 in second residual block), linear4 at end\n",
        "# Replace this function\n",
        "  def forward(self, x):\n",
        "    #h1 = self.linear1(x).relu()\n",
        "    #h2 = self.linear2(h1).relu()\n",
        "    #h3 = self.linear3(h2).relu()\n",
        "\n",
        "    h1 = self.linear1(x).relu()\n",
        "    h2 = self.linear2(h1).relu()\n",
        "    h2 = h2 + h1\n",
        "    h3 = self.linear3(h2).relu()\n",
        "    h3 = h3 + h2\n",
        "    return self.linear4(h3)\n"
      ],
      "metadata": {
        "id": "FslroPJJffrh"
      },
      "execution_count": 27,
      "outputs": []
    },
    {
      "cell_type": "code",
      "source": [
        "# He initialization of weights\n",
        "def weights_init(layer_in):\n",
        "  if isinstance(layer_in, nn.Linear):\n",
        "    nn.init.kaiming_uniform_(layer_in.weight)\n",
        "    layer_in.bias.data.fill_(0.0)"
      ],
      "metadata": {
        "id": "YgLaex1pfhqz"
      },
      "execution_count": 28,
      "outputs": []
    },
    {
      "cell_type": "code",
      "source": [
        "#Define the model\n",
        "model = ResidualNetwork(40, 10)\n",
        "\n",
        "# choose cross entropy loss function (equation 5.24 in the loss notes)\n",
        "loss_function = nn.CrossEntropyLoss()\n",
        "# construct SGD optimizer and initialize learning rate and momentum\n",
        "optimizer = torch.optim.SGD(model.parameters(), lr = 0.05, momentum=0.9)\n",
        "# object that decreases learning rate by half every 20 epochs\n",
        "scheduler = StepLR(optimizer, step_size=20, gamma=0.5)\n",
        "# convert data to torch tensors\n",
        "x_train = torch.tensor(train_data_x.transpose().astype('float32'))\n",
        "y_train = torch.tensor(train_data_y.astype('long'))\n",
        "x_val= torch.tensor(val_data_x.transpose().astype('float32'))\n",
        "y_val = torch.tensor(val_data_y.astype('long'))\n",
        "\n",
        "# load the data into a class that creates the batches\n",
        "data_loader = DataLoader(TensorDataset(x_train,y_train), batch_size=100, shuffle=True, worker_init_fn=np.random.seed(1))\n",
        "\n",
        "# Initialize model weights\n",
        "model.apply(weights_init)\n",
        "\n",
        "# loop over the dataset n_epoch times\n",
        "n_epoch = 100\n",
        "# store the loss and the % correct at each epoch\n",
        "losses_train = np.zeros((n_epoch))\n",
        "errors_train = np.zeros((n_epoch))\n",
        "losses_val = np.zeros((n_epoch))\n",
        "errors_val = np.zeros((n_epoch))\n",
        "\n",
        "for epoch in range(n_epoch):\n",
        "  # loop over batches\n",
        "  for i, data in enumerate(data_loader):\n",
        "    # retrieve inputs and labels for this batch\n",
        "    x_batch, y_batch = data\n",
        "    # zero the parameter gradients\n",
        "    optimizer.zero_grad()\n",
        "    # forward pass -- calculate model output\n",
        "    pred = model(x_batch)\n",
        "    # compute the loss\n",
        "    loss = loss_function(pred, y_batch)\n",
        "    # backward pass\n",
        "    loss.backward()\n",
        "    # SGD update\n",
        "    optimizer.step()\n",
        "\n",
        "  # Run whole dataset to get statistics -- normally wouldn't do this\n",
        "  pred_train = model(x_train)\n",
        "  pred_val = model(x_val)\n",
        "  _, predicted_train_class = torch.max(pred_train.data, 1)\n",
        "  _, predicted_val_class = torch.max(pred_val.data, 1)\n",
        "  errors_train[epoch] = 100 - 100 * (predicted_train_class == y_train).float().sum() / len(y_train)\n",
        "  errors_val[epoch]= 100 - 100 * (predicted_val_class == y_val).float().sum() / len(y_val)\n",
        "  losses_train[epoch] = loss_function(pred_train, y_train).item()\n",
        "  losses_val[epoch]= loss_function(pred_val, y_val).item()\n",
        "  print(f'Epoch {epoch:5d}, train loss {losses_train[epoch]:.6f}, train error {errors_train[epoch]:3.2f},  val loss {losses_val[epoch]:.6f}, percent error {errors_val[epoch]:3.2f}')\n",
        "\n",
        "  # tell scheduler to consider updating learning rate\n",
        "  scheduler.step()"
      ],
      "metadata": {
        "id": "NYw8I_3mmX5c",
        "outputId": "69bd1c62-73e3-4cf3-dac9-86837fc5b5b3",
        "colab": {
          "base_uri": "https://localhost:8080/"
        }
      },
      "execution_count": 29,
      "outputs": [
        {
          "output_type": "stream",
          "name": "stdout",
          "text": [
            "Initialized MLPBase model with 25310 parameters\n",
            "Epoch     0, train loss 1.631583, train error 62.45,  val loss 1.686960, percent error 67.90\n",
            "Epoch     1, train loss 1.347665, train error 48.97,  val loss 1.476171, percent error 57.50\n",
            "Epoch     2, train loss 1.147253, train error 41.40,  val loss 1.283254, percent error 48.40\n",
            "Epoch     3, train loss 0.990691, train error 36.42,  val loss 1.141632, percent error 44.30\n",
            "Epoch     4, train loss 0.905939, train error 33.28,  val loss 1.145297, percent error 44.40\n",
            "Epoch     5, train loss 0.807972, train error 28.97,  val loss 1.095822, percent error 42.80\n",
            "Epoch     6, train loss 0.729765, train error 26.28,  val loss 1.061179, percent error 40.00\n",
            "Epoch     7, train loss 0.685898, train error 24.68,  val loss 1.099356, percent error 41.10\n",
            "Epoch     8, train loss 0.623474, train error 22.00,  val loss 1.071964, percent error 38.70\n",
            "Epoch     9, train loss 0.557731, train error 19.00,  val loss 1.065886, percent error 39.20\n",
            "Epoch    10, train loss 0.494185, train error 16.60,  val loss 1.092450, percent error 39.60\n",
            "Epoch    11, train loss 0.453946, train error 15.65,  val loss 1.131545, percent error 40.00\n",
            "Epoch    12, train loss 0.418912, train error 14.85,  val loss 1.099908, percent error 37.60\n",
            "Epoch    13, train loss 0.371179, train error 12.75,  val loss 1.127184, percent error 37.80\n",
            "Epoch    14, train loss 0.385576, train error 13.65,  val loss 1.277908, percent error 39.70\n",
            "Epoch    15, train loss 0.352048, train error 11.82,  val loss 1.293871, percent error 37.90\n",
            "Epoch    16, train loss 0.321243, train error 10.97,  val loss 1.324382, percent error 39.50\n",
            "Epoch    17, train loss 0.273734, train error 9.75,  val loss 1.353824, percent error 36.90\n",
            "Epoch    18, train loss 0.267359, train error 9.68,  val loss 1.360638, percent error 37.90\n",
            "Epoch    19, train loss 0.242506, train error 8.80,  val loss 1.452834, percent error 38.90\n",
            "Epoch    20, train loss 0.112683, train error 2.03,  val loss 1.320329, percent error 35.70\n",
            "Epoch    21, train loss 0.092310, train error 1.30,  val loss 1.358633, percent error 34.60\n",
            "Epoch    22, train loss 0.073910, train error 0.90,  val loss 1.369450, percent error 35.00\n",
            "Epoch    23, train loss 0.060533, train error 0.30,  val loss 1.419337, percent error 36.00\n",
            "Epoch    24, train loss 0.054349, train error 0.40,  val loss 1.456741, percent error 35.60\n",
            "Epoch    25, train loss 0.044749, train error 0.20,  val loss 1.481986, percent error 35.80\n",
            "Epoch    26, train loss 0.040078, train error 0.07,  val loss 1.544949, percent error 35.40\n",
            "Epoch    27, train loss 0.034466, train error 0.00,  val loss 1.552681, percent error 35.80\n",
            "Epoch    28, train loss 0.031433, train error 0.03,  val loss 1.587891, percent error 35.90\n",
            "Epoch    29, train loss 0.028757, train error 0.00,  val loss 1.619488, percent error 35.10\n",
            "Epoch    30, train loss 0.026096, train error 0.00,  val loss 1.654692, percent error 36.20\n",
            "Epoch    31, train loss 0.023573, train error 0.00,  val loss 1.675076, percent error 35.90\n",
            "Epoch    32, train loss 0.021717, train error 0.00,  val loss 1.701468, percent error 36.80\n",
            "Epoch    33, train loss 0.019733, train error 0.00,  val loss 1.719560, percent error 36.30\n",
            "Epoch    34, train loss 0.018335, train error 0.00,  val loss 1.744830, percent error 36.40\n",
            "Epoch    35, train loss 0.017468, train error 0.00,  val loss 1.763065, percent error 36.80\n",
            "Epoch    36, train loss 0.016584, train error 0.00,  val loss 1.791868, percent error 37.00\n",
            "Epoch    37, train loss 0.015031, train error 0.00,  val loss 1.801233, percent error 36.80\n",
            "Epoch    38, train loss 0.014142, train error 0.00,  val loss 1.819311, percent error 37.20\n",
            "Epoch    39, train loss 0.013374, train error 0.00,  val loss 1.839682, percent error 36.80\n",
            "Epoch    40, train loss 0.012718, train error 0.00,  val loss 1.848165, percent error 36.70\n",
            "Epoch    41, train loss 0.012356, train error 0.00,  val loss 1.856769, percent error 36.60\n",
            "Epoch    42, train loss 0.012043, train error 0.00,  val loss 1.865963, percent error 36.40\n",
            "Epoch    43, train loss 0.011722, train error 0.00,  val loss 1.871508, percent error 36.60\n",
            "Epoch    44, train loss 0.011438, train error 0.00,  val loss 1.880821, percent error 36.50\n",
            "Epoch    45, train loss 0.011284, train error 0.00,  val loss 1.891177, percent error 36.60\n",
            "Epoch    46, train loss 0.010899, train error 0.00,  val loss 1.898129, percent error 36.40\n",
            "Epoch    47, train loss 0.010636, train error 0.00,  val loss 1.904408, percent error 36.50\n",
            "Epoch    48, train loss 0.010418, train error 0.00,  val loss 1.910333, percent error 36.40\n",
            "Epoch    49, train loss 0.010149, train error 0.00,  val loss 1.919300, percent error 36.40\n",
            "Epoch    50, train loss 0.009963, train error 0.00,  val loss 1.925904, percent error 36.50\n",
            "Epoch    51, train loss 0.009718, train error 0.00,  val loss 1.931470, percent error 36.50\n",
            "Epoch    52, train loss 0.009539, train error 0.00,  val loss 1.936226, percent error 36.50\n",
            "Epoch    53, train loss 0.009303, train error 0.00,  val loss 1.946761, percent error 36.50\n",
            "Epoch    54, train loss 0.009121, train error 0.00,  val loss 1.951641, percent error 36.30\n",
            "Epoch    55, train loss 0.008941, train error 0.00,  val loss 1.958625, percent error 36.30\n",
            "Epoch    56, train loss 0.008748, train error 0.00,  val loss 1.967550, percent error 36.20\n",
            "Epoch    57, train loss 0.008568, train error 0.00,  val loss 1.971808, percent error 36.30\n",
            "Epoch    58, train loss 0.008406, train error 0.00,  val loss 1.977987, percent error 36.60\n",
            "Epoch    59, train loss 0.008256, train error 0.00,  val loss 1.984241, percent error 36.40\n",
            "Epoch    60, train loss 0.008151, train error 0.00,  val loss 1.987053, percent error 36.40\n",
            "Epoch    61, train loss 0.008069, train error 0.00,  val loss 1.990345, percent error 36.00\n",
            "Epoch    62, train loss 0.007994, train error 0.00,  val loss 1.993012, percent error 36.30\n",
            "Epoch    63, train loss 0.007925, train error 0.00,  val loss 1.995928, percent error 36.20\n",
            "Epoch    64, train loss 0.007849, train error 0.00,  val loss 1.999551, percent error 36.50\n",
            "Epoch    65, train loss 0.007777, train error 0.00,  val loss 2.002206, percent error 36.40\n",
            "Epoch    66, train loss 0.007707, train error 0.00,  val loss 2.005564, percent error 36.40\n",
            "Epoch    67, train loss 0.007639, train error 0.00,  val loss 2.008886, percent error 36.30\n",
            "Epoch    68, train loss 0.007569, train error 0.00,  val loss 2.010440, percent error 36.60\n",
            "Epoch    69, train loss 0.007503, train error 0.00,  val loss 2.013590, percent error 36.50\n",
            "Epoch    70, train loss 0.007439, train error 0.00,  val loss 2.016644, percent error 36.60\n",
            "Epoch    71, train loss 0.007379, train error 0.00,  val loss 2.018784, percent error 36.70\n",
            "Epoch    72, train loss 0.007318, train error 0.00,  val loss 2.021974, percent error 36.40\n",
            "Epoch    73, train loss 0.007245, train error 0.00,  val loss 2.025243, percent error 36.50\n",
            "Epoch    74, train loss 0.007184, train error 0.00,  val loss 2.027033, percent error 36.80\n",
            "Epoch    75, train loss 0.007124, train error 0.00,  val loss 2.030233, percent error 36.70\n",
            "Epoch    76, train loss 0.007065, train error 0.00,  val loss 2.032776, percent error 36.80\n",
            "Epoch    77, train loss 0.007006, train error 0.00,  val loss 2.035864, percent error 36.80\n",
            "Epoch    78, train loss 0.006948, train error 0.00,  val loss 2.038100, percent error 36.60\n",
            "Epoch    79, train loss 0.006893, train error 0.00,  val loss 2.041162, percent error 36.60\n",
            "Epoch    80, train loss 0.006858, train error 0.00,  val loss 2.042251, percent error 36.70\n",
            "Epoch    81, train loss 0.006830, train error 0.00,  val loss 2.043940, percent error 36.70\n",
            "Epoch    82, train loss 0.006803, train error 0.00,  val loss 2.044642, percent error 36.70\n",
            "Epoch    83, train loss 0.006774, train error 0.00,  val loss 2.046731, percent error 36.80\n",
            "Epoch    84, train loss 0.006747, train error 0.00,  val loss 2.047693, percent error 36.70\n",
            "Epoch    85, train loss 0.006720, train error 0.00,  val loss 2.049242, percent error 36.80\n",
            "Epoch    86, train loss 0.006692, train error 0.00,  val loss 2.050266, percent error 36.70\n",
            "Epoch    87, train loss 0.006666, train error 0.00,  val loss 2.052043, percent error 36.70\n",
            "Epoch    88, train loss 0.006639, train error 0.00,  val loss 2.053077, percent error 36.60\n",
            "Epoch    89, train loss 0.006613, train error 0.00,  val loss 2.053914, percent error 36.80\n",
            "Epoch    90, train loss 0.006587, train error 0.00,  val loss 2.055223, percent error 36.70\n",
            "Epoch    91, train loss 0.006561, train error 0.00,  val loss 2.056373, percent error 36.70\n",
            "Epoch    92, train loss 0.006535, train error 0.00,  val loss 2.058079, percent error 36.80\n",
            "Epoch    93, train loss 0.006509, train error 0.00,  val loss 2.059744, percent error 36.80\n",
            "Epoch    94, train loss 0.006484, train error 0.00,  val loss 2.060122, percent error 36.80\n",
            "Epoch    95, train loss 0.006459, train error 0.00,  val loss 2.061919, percent error 36.80\n",
            "Epoch    96, train loss 0.006434, train error 0.00,  val loss 2.063540, percent error 36.90\n",
            "Epoch    97, train loss 0.006409, train error 0.00,  val loss 2.064473, percent error 36.80\n",
            "Epoch    98, train loss 0.006384, train error 0.00,  val loss 2.065763, percent error 36.70\n",
            "Epoch    99, train loss 0.006360, train error 0.00,  val loss 2.066679, percent error 36.90\n"
          ]
        }
      ]
    },
    {
      "cell_type": "code",
      "source": [
        "# Plot the results\n",
        "fig, ax = plt.subplots()\n",
        "ax.plot(errors_train,'r-',label='train')\n",
        "ax.plot(errors_val,'b-',label='test')\n",
        "ax.set_ylim(0,100); ax.set_xlim(0,n_epoch)\n",
        "ax.set_xlabel('Epoch'); ax.set_ylabel('Error')\n",
        "ax.set_title('TrainError %3.2f, Val Error %3.2f'%(errors_train[-1],errors_val[-1]))\n",
        "ax.legend()\n",
        "plt.show()"
      ],
      "metadata": {
        "id": "CcP_VyEmE2sv",
        "outputId": "ad5ca995-f761-4763-d860-e2cf9ccdb327",
        "colab": {
          "base_uri": "https://localhost:8080/",
          "height": 472
        }
      },
      "execution_count": 30,
      "outputs": [
        {
          "output_type": "display_data",
          "data": {
            "text/plain": [
              "<Figure size 640x480 with 1 Axes>"
            ],
            "image/png": "[encoded data removed]"
          },
          "metadata": {}
        }
      ]
    },
    {
      "cell_type": "markdown",
      "source": [
        "The primary motivation of residual networks is to allow training of much deeper networks.   \n",
        "\n",
        "TODO: Try running this network with and without the residual connections.  Does adding the residual connections change the performance?\n",
        "\n",
        "We don't get any huge performence gaps. This is likely a result of a narrow network which isn't very deep. We also use linear layers instead of convolutional ones."
      ],
      "metadata": {
        "id": "wMmqhmxuAx0M"
      }
    },
    {
      "cell_type": "code",
      "source": [],
      "metadata": {
        "id": "s8lzvicuqVZU"
      },
      "execution_count": null,
      "outputs": []
    }
  ]
}