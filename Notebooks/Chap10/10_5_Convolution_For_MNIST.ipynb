{
  "nbformat": 4,
  "nbformat_minor": 0,
  "metadata": {
    "colab": {
      "provenance": [],
      "include_colab_link": true
    },
    "kernelspec": {
      "name": "python3",
      "display_name": "Python 3"
    },
    "language_info": {
      "name": "python"
    }
  },
  "cells": [
    {
      "cell_type": "markdown",
      "metadata": {
        "id": "view-in-github",
        "colab_type": "text"
      },
      "source": [
        "<a href=\"https://colab.research.google.com/github/TheodorSTTH/colabs/blob/main/Notebooks/Chap10/10_5_Convolution_For_MNIST.ipynb\" target=\"_parent\"><img src=\"https://colab.research.google.com/assets/colab-badge.svg\" alt=\"Open In Colab\"/></a>"
      ]
    },
    {
      "cell_type": "markdown",
      "source": [
        "# **Notebook 10.5: Convolution for MNIST**\n",
        "\n",
        "This notebook builds a proper network for 2D convolution.  It works with the MNIST dataset (figure 15.15a), which was the original classic dataset for classifying images.  The network will take a 28x28 grayscale image and classify it into one of 10 classes representing a digit.\n",
        "\n",
        "The code is adapted from https://nextjournal.com/gkoehler/pytorch-mnist\n",
        "\n",
        "Work through the cells below, running each cell in turn. In various places you will see the words \"TODO\". Follow the instructions at these places and make predictions about what is going to happen or write code to complete the functions.\n",
        "\n",
        "Contact me at udlbookmail@gmail.com if you find any mistakes or have any suggestions.\n"
      ],
      "metadata": {
        "id": "t9vk9Elugvmi"
      }
    },
    {
      "cell_type": "code",
      "source": [
        "import torch\n",
        "import torchvision\n",
        "import torch.nn as nn\n",
        "import torch.nn.functional as F\n",
        "import torch.optim as optim\n",
        "import matplotlib.pyplot as plt\n",
        "import random"
      ],
      "metadata": {
        "id": "YrXWAH7sUWvU"
      },
      "execution_count": 1,
      "outputs": []
    },
    {
      "cell_type": "code",
      "source": [
        "# Run this once to load the train and test data straight into a dataloader class\n",
        "# that will provide the batches\n",
        "\n",
        "# (It may complain that some files are missing because the files seem to have been\n",
        "# reorganized on the underlying website, but it still seems to work). If everything is working\n",
        "# properly, then the whole notebook should run to the end without further problems\n",
        "# even before you make changes.\n",
        "batch_size_train = 64\n",
        "batch_size_test = 1000\n",
        "\n",
        "# TODO Change this directory to point towards an existing directory\n",
        "myDir = '/files/'\n",
        "\n",
        "train_loader = torch.utils.data.DataLoader(\n",
        "  torchvision.datasets.MNIST(myDir, train=True, download=True,\n",
        "                             transform=torchvision.transforms.Compose([\n",
        "                               torchvision.transforms.ToTensor(),\n",
        "                               torchvision.transforms.Normalize(\n",
        "                                 (0.1307,), (0.3081,))\n",
        "                             ])),\n",
        "  batch_size=batch_size_train, shuffle=True)\n",
        "\n",
        "test_loader = torch.utils.data.DataLoader(\n",
        "  torchvision.datasets.MNIST(myDir, train=False, download=True,\n",
        "                             transform=torchvision.transforms.Compose([\n",
        "                               torchvision.transforms.ToTensor(),\n",
        "                               torchvision.transforms.Normalize(\n",
        "                                 (0.1307,), (0.3081,))\n",
        "                             ])),\n",
        "  batch_size=batch_size_test, shuffle=True)"
      ],
      "metadata": {
        "id": "wScBGXXFVadm",
        "outputId": "4914e2f8-cb59-468d-9660-720a0f55deb5",
        "colab": {
          "base_uri": "https://localhost:8080/"
        }
      },
      "execution_count": 2,
      "outputs": [
        {
          "output_type": "stream",
          "name": "stdout",
          "text": [
            "Downloading http://yann.lecun.com/exdb/mnist/train-images-idx3-ubyte.gz\n",
            "Failed to download (trying next):\n",
            "HTTP Error 404: Not Found\n",
            "\n",
            "Downloading https://ossci-datasets.s3.amazonaws.com/mnist/train-images-idx3-ubyte.gz\n",
            "Downloading https://ossci-datasets.s3.amazonaws.com/mnist/train-images-idx3-ubyte.gz to /files/MNIST/raw/train-images-idx3-ubyte.gz\n"
          ]
        },
        {
          "output_type": "stream",
          "name": "stderr",
          "text": [
            "100%|██████████| 9.91M/9.91M [00:00<00:00, 16.2MB/s]\n"
          ]
        },
        {
          "output_type": "stream",
          "name": "stdout",
          "text": [
            "Extracting /files/MNIST/raw/train-images-idx3-ubyte.gz to /files/MNIST/raw\n",
            "\n",
            "Downloading http://yann.lecun.com/exdb/mnist/train-labels-idx1-ubyte.gz\n",
            "Failed to download (trying next):\n",
            "HTTP Error 404: Not Found\n",
            "\n",
            "Downloading https://ossci-datasets.s3.amazonaws.com/mnist/train-labels-idx1-ubyte.gz\n",
            "Downloading https://ossci-datasets.s3.amazonaws.com/mnist/train-labels-idx1-ubyte.gz to /files/MNIST/raw/train-labels-idx1-ubyte.gz\n"
          ]
        },
        {
          "output_type": "stream",
          "name": "stderr",
          "text": [
            "100%|██████████| 28.9k/28.9k [00:00<00:00, 480kB/s]\n"
          ]
        },
        {
          "output_type": "stream",
          "name": "stdout",
          "text": [
            "Extracting /files/MNIST/raw/train-labels-idx1-ubyte.gz to /files/MNIST/raw\n",
            "\n",
            "Downloading http://yann.lecun.com/exdb/mnist/t10k-images-idx3-ubyte.gz\n",
            "Failed to download (trying next):\n",
            "HTTP Error 404: Not Found\n",
            "\n",
            "Downloading https://ossci-datasets.s3.amazonaws.com/mnist/t10k-images-idx3-ubyte.gz\n",
            "Downloading https://ossci-datasets.s3.amazonaws.com/mnist/t10k-images-idx3-ubyte.gz to /files/MNIST/raw/t10k-images-idx3-ubyte.gz\n"
          ]
        },
        {
          "output_type": "stream",
          "name": "stderr",
          "text": [
            "100%|██████████| 1.65M/1.65M [00:00<00:00, 4.45MB/s]\n"
          ]
        },
        {
          "output_type": "stream",
          "name": "stdout",
          "text": [
            "Extracting /files/MNIST/raw/t10k-images-idx3-ubyte.gz to /files/MNIST/raw\n",
            "\n",
            "Downloading http://yann.lecun.com/exdb/mnist/t10k-labels-idx1-ubyte.gz\n",
            "Failed to download (trying next):\n",
            "HTTP Error 404: Not Found\n",
            "\n",
            "Downloading https://ossci-datasets.s3.amazonaws.com/mnist/t10k-labels-idx1-ubyte.gz\n",
            "Downloading https://ossci-datasets.s3.amazonaws.com/mnist/t10k-labels-idx1-ubyte.gz to /files/MNIST/raw/t10k-labels-idx1-ubyte.gz\n"
          ]
        },
        {
          "output_type": "stream",
          "name": "stderr",
          "text": [
            "100%|██████████| 4.54k/4.54k [00:00<00:00, 4.68MB/s]\n"
          ]
        },
        {
          "output_type": "stream",
          "name": "stdout",
          "text": [
            "Extracting /files/MNIST/raw/t10k-labels-idx1-ubyte.gz to /files/MNIST/raw\n",
            "\n"
          ]
        }
      ]
    },
    {
      "cell_type": "code",
      "source": [
        "# Let's draw some of the training data\n",
        "examples = enumerate(test_loader)\n",
        "batch_idx, (example_data, example_targets) = next(examples)\n",
        "\n",
        "fig = plt.figure()\n",
        "for i in range(6):\n",
        "  plt.subplot(2,3,i+1)\n",
        "  plt.tight_layout()\n",
        "  plt.imshow(example_data[i][0], cmap='gray', interpolation='none')\n",
        "  plt.title(\"Ground Truth: {}\".format(example_targets[i]))\n",
        "  plt.xticks([])\n",
        "  plt.yticks([])\n",
        "plt.show()"
      ],
      "metadata": {
        "id": "8bKADvLHbiV5",
        "outputId": "75f8bcb8-6269-4ab1-a923-eb1c3770fda0",
        "colab": {
          "base_uri": "https://localhost:8080/",
          "height": 438
        }
      },
      "execution_count": 3,
      "outputs": [
        {
          "output_type": "display_data",
          "data": {
            "text/plain": [
              "<Figure size 640x480 with 6 Axes>"
            ],
            "image/png": "[encoded data removed]"
          },
          "metadata": {}
        }
      ]
    },
    {
      "cell_type": "markdown",
      "source": [
        "Define the network.  This is a more typical way to define a network than the sequential structure.  We define a class for the network, and define the parameters in the constructor.  Then we use a function called forward to actually run the network.  It's easy to see how you might use residual connections in this format."
      ],
      "metadata": {
        "id": "_sFvRDGrl4qe"
      }
    },
    {
      "cell_type": "code",
      "source": [
        "from os import X_OK\n",
        "# TODO Change this class to implement\n",
        "# 1. A valid convolution with kernel size 5, 1 input channel and 10 output channels\n",
        "# 2. A max pooling operation over a 2x2 area\n",
        "# 3. A Relu\n",
        "# 4. A valid convolution with kernel size 5, 10 input channels and 20 output channels\n",
        "# 5. A 2D Dropout layer\n",
        "# 6. A max pooling operation over a 2x2 area\n",
        "# 7. A relu\n",
        "# 8. A flattening operation\n",
        "# 9. A fully connected layer mapping from (whatever dimensions we are at-- find out using .shape) to 50\n",
        "# 10. A ReLU\n",
        "# 11. A fully connected layer mapping from 50 to 10 dimensions\n",
        "# 12. A softmax function.\n",
        "\n",
        "# Replace this class which implements a minimal network (which still does okay)\n",
        "class Net(nn.Module):\n",
        "    def __init__(self):\n",
        "        super(Net, self).__init__()\n",
        "        # # Valid convolution, 1 channel in, 2 channels out, stride 1, kernel size = 3\n",
        "        # self.conv1 = nn.Conv2d(1, 2, kernel_size=3)\n",
        "        # # Dropout for convolutions\n",
        "        # self.drop = nn.Dropout2d()\n",
        "        # # Fully connected layer\n",
        "        # self.fc1 = nn.Linear(338, 10)\n",
        "\n",
        "        self.conv_1 = nn.Conv2d(in_channels=1, out_channels=10, kernel_size=5, stride=1, padding=\"valid\")\n",
        "        self.conv_2 = nn.Conv2d(in_channels=10, out_channels=20, kernel_size=5, stride=1, padding=\"valid\")\n",
        "        self.drop_1 = nn.Dropout2d()\n",
        "        self.fc_1 = nn.Linear(in_features=320, out_features=50)\n",
        "        self.fc_2 = nn.Linear(in_features=50, out_features=10)\n",
        "\n",
        "    def forward(self, x):\n",
        "        x = self.conv_1(x)\n",
        "        x = F.max_pool2d(x, 2) # F is torch functional\n",
        "        x = F.relu(x)\n",
        "        x = self.conv_2(x)\n",
        "        x = self.drop_1(x)\n",
        "        x = F.max_pool2d(x, 2)\n",
        "        x = F.relu(x)\n",
        "        x = x.flatten(1)\n",
        "        # print(f\"{x.shape = }\")\n",
        "        x = self.fc_1(x)\n",
        "        x = F.relu(x)\n",
        "        x = self.fc_2(x)\n",
        "        x = F.log_softmax(x)\n",
        "\n",
        "\n",
        "        # x = self.conv1(x)\n",
        "        # x = self.drop(x)\n",
        "        # x = F.max_pool2d(x,2)\n",
        "        # x = F.relu(x)\n",
        "        # x = x.flatten(1)\n",
        "        # x = self.fc1(x)\n",
        "        # x = F.log_softmax(x)\n",
        "        return x\n",
        "\n",
        "\n",
        "\n",
        "\n"
      ],
      "metadata": {
        "id": "EQkvw2KOPVl7"
      },
      "execution_count": 28,
      "outputs": []
    },
    {
      "cell_type": "code",
      "source": [
        "# He initialization of weights\n",
        "def weights_init(layer_in):\n",
        "  if isinstance(layer_in, nn.Linear):\n",
        "    nn.init.kaiming_uniform_(layer_in.weight)\n",
        "    layer_in.bias.data.fill_(0.0)"
      ],
      "metadata": {
        "id": "qWZtkCZcU_dg"
      },
      "execution_count": 29,
      "outputs": []
    },
    {
      "cell_type": "code",
      "source": [
        "# Create network\n",
        "model = Net()\n",
        "# Initialize model weights\n",
        "model.apply(weights_init)\n",
        "# Define optimizer\n",
        "optimizer = optim.SGD(model.parameters(), lr=0.01, momentum=0.5)"
      ],
      "metadata": {
        "id": "FslroPJJffrh"
      },
      "execution_count": 30,
      "outputs": []
    },
    {
      "cell_type": "code",
      "source": [
        "# Main training routine\n",
        "def train(epoch):\n",
        "  model.train()\n",
        "  # Get each\n",
        "  for batch_idx, (data, target) in enumerate(train_loader):\n",
        "    optimizer.zero_grad()\n",
        "    output = model(data)\n",
        "    loss = F.nll_loss(output, target)\n",
        "    loss.backward()\n",
        "    optimizer.step()\n",
        "    # Store results\n",
        "    if batch_idx % 10 == 0:\n",
        "      print('Train Epoch: {} [{}/{}]\\tLoss: {:.6f}'.format(\n",
        "        epoch, batch_idx * len(data), len(train_loader.dataset), loss.item()))"
      ],
      "metadata": {
        "id": "xKQd9PzkQ766"
      },
      "execution_count": 31,
      "outputs": []
    },
    {
      "cell_type": "code",
      "source": [
        "# Run on test data\n",
        "def test():\n",
        "  model.eval()\n",
        "  test_loss = 0\n",
        "  correct = 0\n",
        "  with torch.no_grad():\n",
        "    for data, target in test_loader:\n",
        "      output = model(data)\n",
        "      test_loss += F.nll_loss(output, target, size_average=False).item()\n",
        "      pred = output.data.max(1, keepdim=True)[1]\n",
        "      correct += pred.eq(target.data.view_as(pred)).sum()\n",
        "  test_loss /= len(test_loader.dataset)\n",
        "  print('\\nTest set: Avg. loss: {:.4f}, Accuracy: {}/{} ({:.0f}%)\\n'.format(\n",
        "    test_loss, correct, len(test_loader.dataset),\n",
        "    100. * correct / len(test_loader.dataset)))"
      ],
      "metadata": {
        "id": "Byn-f7qWRLxX"
      },
      "execution_count": 32,
      "outputs": []
    },
    {
      "cell_type": "code",
      "source": [
        "# Get initial performance\n",
        "test()\n",
        "# Train for three epochs\n",
        "n_epochs = 3\n",
        "for epoch in range(1, n_epochs + 1):\n",
        "  train(epoch)\n",
        "  test()"
      ],
      "metadata": {
        "id": "YgLaex1pfhqz",
        "outputId": "2e5c3549-f0de-4b6d-d761-ab4bd833bfb9",
        "colab": {
          "base_uri": "https://localhost:8080/"
        }
      },
      "execution_count": 33,
      "outputs": [
        {
          "output_type": "stream",
          "name": "stderr",
          "text": [
            "<ipython-input-28-6d55794a5bea>:46: UserWarning: Implicit dimension choice for log_softmax has been deprecated. Change the call to include dim=X as an argument.\n",
            "  x = F.log_softmax(x)\n"
          ]
        },
        {
          "output_type": "stream",
          "name": "stdout",
          "text": [
            "\n",
            "Test set: Avg. loss: 2.4132, Accuracy: 1046/10000 (10%)\n",
            "\n",
            "Train Epoch: 1 [0/60000]\tLoss: 2.531617\n",
            "Train Epoch: 1 [640/60000]\tLoss: 2.142217\n",
            "Train Epoch: 1 [1280/60000]\tLoss: 2.056341\n",
            "Train Epoch: 1 [1920/60000]\tLoss: 2.017506\n",
            "Train Epoch: 1 [2560/60000]\tLoss: 1.910945\n",
            "Train Epoch: 1 [3200/60000]\tLoss: 1.610615\n",
            "Train Epoch: 1 [3840/60000]\tLoss: 1.333644\n",
            "Train Epoch: 1 [4480/60000]\tLoss: 1.397422\n",
            "Train Epoch: 1 [5120/60000]\tLoss: 0.868153\n",
            "Train Epoch: 1 [5760/60000]\tLoss: 1.189317\n",
            "Train Epoch: 1 [6400/60000]\tLoss: 0.987660\n",
            "Train Epoch: 1 [7040/60000]\tLoss: 1.097791\n",
            "Train Epoch: 1 [7680/60000]\tLoss: 0.694091\n",
            "Train Epoch: 1 [8320/60000]\tLoss: 0.729978\n",
            "Train Epoch: 1 [8960/60000]\tLoss: 0.679550\n",
            "Train Epoch: 1 [9600/60000]\tLoss: 0.613393\n",
            "Train Epoch: 1 [10240/60000]\tLoss: 0.899415\n",
            "Train Epoch: 1 [10880/60000]\tLoss: 0.665023\n",
            "Train Epoch: 1 [11520/60000]\tLoss: 0.648620\n",
            "Train Epoch: 1 [12160/60000]\tLoss: 0.680859\n",
            "Train Epoch: 1 [12800/60000]\tLoss: 0.831280\n",
            "Train Epoch: 1 [13440/60000]\tLoss: 0.531506\n",
            "Train Epoch: 1 [14080/60000]\tLoss: 0.522791\n",
            "Train Epoch: 1 [14720/60000]\tLoss: 0.563479\n",
            "Train Epoch: 1 [15360/60000]\tLoss: 0.521663\n",
            "Train Epoch: 1 [16000/60000]\tLoss: 0.514651\n",
            "Train Epoch: 1 [16640/60000]\tLoss: 0.463742\n",
            "Train Epoch: 1 [17280/60000]\tLoss: 0.611602\n",
            "Train Epoch: 1 [17920/60000]\tLoss: 0.571941\n",
            "Train Epoch: 1 [18560/60000]\tLoss: 0.372356\n",
            "Train Epoch: 1 [19200/60000]\tLoss: 0.590295\n",
            "Train Epoch: 1 [19840/60000]\tLoss: 0.439813\n",
            "Train Epoch: 1 [20480/60000]\tLoss: 0.217349\n",
            "Train Epoch: 1 [21120/60000]\tLoss: 0.537632\n",
            "Train Epoch: 1 [21760/60000]\tLoss: 0.275790\n",
            "Train Epoch: 1 [22400/60000]\tLoss: 0.371782\n",
            "Train Epoch: 1 [23040/60000]\tLoss: 0.463463\n",
            "Train Epoch: 1 [23680/60000]\tLoss: 0.561889\n",
            "Train Epoch: 1 [24320/60000]\tLoss: 0.435225\n",
            "Train Epoch: 1 [24960/60000]\tLoss: 0.515327\n",
            "Train Epoch: 1 [25600/60000]\tLoss: 0.399121\n",
            "Train Epoch: 1 [26240/60000]\tLoss: 0.361293\n",
            "Train Epoch: 1 [26880/60000]\tLoss: 0.458873\n",
            "Train Epoch: 1 [27520/60000]\tLoss: 0.291442\n",
            "Train Epoch: 1 [28160/60000]\tLoss: 0.348739\n",
            "Train Epoch: 1 [28800/60000]\tLoss: 0.479651\n",
            "Train Epoch: 1 [29440/60000]\tLoss: 0.164537\n",
            "Train Epoch: 1 [30080/60000]\tLoss: 0.285836\n",
            "Train Epoch: 1 [30720/60000]\tLoss: 0.423498\n",
            "Train Epoch: 1 [31360/60000]\tLoss: 0.369180\n",
            "Train Epoch: 1 [32000/60000]\tLoss: 0.371453\n",
            "Train Epoch: 1 [32640/60000]\tLoss: 0.322641\n",
            "Train Epoch: 1 [33280/60000]\tLoss: 0.310320\n",
            "Train Epoch: 1 [33920/60000]\tLoss: 0.257878\n",
            "Train Epoch: 1 [34560/60000]\tLoss: 0.383060\n",
            "Train Epoch: 1 [35200/60000]\tLoss: 0.222115\n",
            "Train Epoch: 1 [35840/60000]\tLoss: 0.462303\n",
            "Train Epoch: 1 [36480/60000]\tLoss: 0.232902\n",
            "Train Epoch: 1 [37120/60000]\tLoss: 0.211749\n",
            "Train Epoch: 1 [37760/60000]\tLoss: 0.197984\n",
            "Train Epoch: 1 [38400/60000]\tLoss: 0.489913\n",
            "Train Epoch: 1 [39040/60000]\tLoss: 0.302249\n",
            "Train Epoch: 1 [39680/60000]\tLoss: 0.518463\n",
            "Train Epoch: 1 [40320/60000]\tLoss: 0.351350\n",
            "Train Epoch: 1 [40960/60000]\tLoss: 0.282574\n",
            "Train Epoch: 1 [41600/60000]\tLoss: 0.309196\n",
            "Train Epoch: 1 [42240/60000]\tLoss: 0.235633\n",
            "Train Epoch: 1 [42880/60000]\tLoss: 0.211600\n",
            "Train Epoch: 1 [43520/60000]\tLoss: 0.304037\n",
            "Train Epoch: 1 [44160/60000]\tLoss: 0.285352\n",
            "Train Epoch: 1 [44800/60000]\tLoss: 0.281626\n",
            "Train Epoch: 1 [45440/60000]\tLoss: 0.354800\n",
            "Train Epoch: 1 [46080/60000]\tLoss: 0.415694\n",
            "Train Epoch: 1 [46720/60000]\tLoss: 0.336666\n",
            "Train Epoch: 1 [47360/60000]\tLoss: 0.295237\n",
            "Train Epoch: 1 [48000/60000]\tLoss: 0.188070\n",
            "Train Epoch: 1 [48640/60000]\tLoss: 0.533873\n",
            "Train Epoch: 1 [49280/60000]\tLoss: 0.253033\n",
            "Train Epoch: 1 [49920/60000]\tLoss: 0.486342\n",
            "Train Epoch: 1 [50560/60000]\tLoss: 0.307493\n",
            "Train Epoch: 1 [51200/60000]\tLoss: 0.303018\n",
            "Train Epoch: 1 [51840/60000]\tLoss: 0.305741\n",
            "Train Epoch: 1 [52480/60000]\tLoss: 0.175416\n",
            "Train Epoch: 1 [53120/60000]\tLoss: 0.160900\n",
            "Train Epoch: 1 [53760/60000]\tLoss: 0.251273\n",
            "Train Epoch: 1 [54400/60000]\tLoss: 0.374462\n",
            "Train Epoch: 1 [55040/60000]\tLoss: 0.304787\n",
            "Train Epoch: 1 [55680/60000]\tLoss: 0.235051\n",
            "Train Epoch: 1 [56320/60000]\tLoss: 0.165370\n",
            "Train Epoch: 1 [56960/60000]\tLoss: 0.363835\n",
            "Train Epoch: 1 [57600/60000]\tLoss: 0.246716\n",
            "Train Epoch: 1 [58240/60000]\tLoss: 0.421561\n",
            "Train Epoch: 1 [58880/60000]\tLoss: 0.291315\n",
            "Train Epoch: 1 [59520/60000]\tLoss: 0.388328\n",
            "\n",
            "Test set: Avg. loss: 0.1298, Accuracy: 9609/10000 (96%)\n",
            "\n",
            "Train Epoch: 2 [0/60000]\tLoss: 0.108268\n",
            "Train Epoch: 2 [640/60000]\tLoss: 0.320404\n",
            "Train Epoch: 2 [1280/60000]\tLoss: 0.160269\n",
            "Train Epoch: 2 [1920/60000]\tLoss: 0.147483\n",
            "Train Epoch: 2 [2560/60000]\tLoss: 0.314741\n",
            "Train Epoch: 2 [3200/60000]\tLoss: 0.104810\n",
            "Train Epoch: 2 [3840/60000]\tLoss: 0.285270\n",
            "Train Epoch: 2 [4480/60000]\tLoss: 0.324911\n",
            "Train Epoch: 2 [5120/60000]\tLoss: 0.328428\n",
            "Train Epoch: 2 [5760/60000]\tLoss: 0.116332\n",
            "Train Epoch: 2 [6400/60000]\tLoss: 0.368671\n",
            "Train Epoch: 2 [7040/60000]\tLoss: 0.160619\n",
            "Train Epoch: 2 [7680/60000]\tLoss: 0.111643\n",
            "Train Epoch: 2 [8320/60000]\tLoss: 0.156503\n",
            "Train Epoch: 2 [8960/60000]\tLoss: 0.299822\n",
            "Train Epoch: 2 [9600/60000]\tLoss: 0.209703\n",
            "Train Epoch: 2 [10240/60000]\tLoss: 0.205640\n",
            "Train Epoch: 2 [10880/60000]\tLoss: 0.256717\n",
            "Train Epoch: 2 [11520/60000]\tLoss: 0.306759\n",
            "Train Epoch: 2 [12160/60000]\tLoss: 0.213533\n",
            "Train Epoch: 2 [12800/60000]\tLoss: 0.350955\n",
            "Train Epoch: 2 [13440/60000]\tLoss: 0.233675\n",
            "Train Epoch: 2 [14080/60000]\tLoss: 0.207942\n",
            "Train Epoch: 2 [14720/60000]\tLoss: 0.116603\n",
            "Train Epoch: 2 [15360/60000]\tLoss: 0.174924\n",
            "Train Epoch: 2 [16000/60000]\tLoss: 0.119546\n",
            "Train Epoch: 2 [16640/60000]\tLoss: 0.086474\n",
            "Train Epoch: 2 [17280/60000]\tLoss: 0.410769\n",
            "Train Epoch: 2 [17920/60000]\tLoss: 0.233176\n",
            "Train Epoch: 2 [18560/60000]\tLoss: 0.172875\n",
            "Train Epoch: 2 [19200/60000]\tLoss: 0.423960\n",
            "Train Epoch: 2 [19840/60000]\tLoss: 0.171668\n",
            "Train Epoch: 2 [20480/60000]\tLoss: 0.237609\n",
            "Train Epoch: 2 [21120/60000]\tLoss: 0.214177\n",
            "Train Epoch: 2 [21760/60000]\tLoss: 0.171084\n",
            "Train Epoch: 2 [22400/60000]\tLoss: 0.256831\n",
            "Train Epoch: 2 [23040/60000]\tLoss: 0.185998\n",
            "Train Epoch: 2 [23680/60000]\tLoss: 0.165173\n",
            "Train Epoch: 2 [24320/60000]\tLoss: 0.430054\n",
            "Train Epoch: 2 [24960/60000]\tLoss: 0.263803\n",
            "Train Epoch: 2 [25600/60000]\tLoss: 0.285850\n",
            "Train Epoch: 2 [26240/60000]\tLoss: 0.330269\n",
            "Train Epoch: 2 [26880/60000]\tLoss: 0.335110\n",
            "Train Epoch: 2 [27520/60000]\tLoss: 0.144981\n",
            "Train Epoch: 2 [28160/60000]\tLoss: 0.181481\n",
            "Train Epoch: 2 [28800/60000]\tLoss: 0.210396\n",
            "Train Epoch: 2 [29440/60000]\tLoss: 0.236209\n",
            "Train Epoch: 2 [30080/60000]\tLoss: 0.200907\n",
            "Train Epoch: 2 [30720/60000]\tLoss: 0.087881\n",
            "Train Epoch: 2 [31360/60000]\tLoss: 0.252913\n",
            "Train Epoch: 2 [32000/60000]\tLoss: 0.235472\n",
            "Train Epoch: 2 [32640/60000]\tLoss: 0.191204\n",
            "Train Epoch: 2 [33280/60000]\tLoss: 0.185660\n",
            "Train Epoch: 2 [33920/60000]\tLoss: 0.246481\n",
            "Train Epoch: 2 [34560/60000]\tLoss: 0.176442\n",
            "Train Epoch: 2 [35200/60000]\tLoss: 0.331014\n",
            "Train Epoch: 2 [35840/60000]\tLoss: 0.106083\n",
            "Train Epoch: 2 [36480/60000]\tLoss: 0.081270\n",
            "Train Epoch: 2 [37120/60000]\tLoss: 0.279883\n",
            "Train Epoch: 2 [37760/60000]\tLoss: 0.036639\n",
            "Train Epoch: 2 [38400/60000]\tLoss: 0.091394\n",
            "Train Epoch: 2 [39040/60000]\tLoss: 0.156804\n",
            "Train Epoch: 2 [39680/60000]\tLoss: 0.061623\n",
            "Train Epoch: 2 [40320/60000]\tLoss: 0.133819\n",
            "Train Epoch: 2 [40960/60000]\tLoss: 0.218060\n",
            "Train Epoch: 2 [41600/60000]\tLoss: 0.103355\n",
            "Train Epoch: 2 [42240/60000]\tLoss: 0.232871\n",
            "Train Epoch: 2 [42880/60000]\tLoss: 0.101322\n",
            "Train Epoch: 2 [43520/60000]\tLoss: 0.147483\n",
            "Train Epoch: 2 [44160/60000]\tLoss: 0.128550\n",
            "Train Epoch: 2 [44800/60000]\tLoss: 0.182581\n",
            "Train Epoch: 2 [45440/60000]\tLoss: 0.276891\n",
            "Train Epoch: 2 [46080/60000]\tLoss: 0.406824\n",
            "Train Epoch: 2 [46720/60000]\tLoss: 0.154063\n",
            "Train Epoch: 2 [47360/60000]\tLoss: 0.192101\n",
            "Train Epoch: 2 [48000/60000]\tLoss: 0.418268\n",
            "Train Epoch: 2 [48640/60000]\tLoss: 0.279827\n",
            "Train Epoch: 2 [49280/60000]\tLoss: 0.122091\n",
            "Train Epoch: 2 [49920/60000]\tLoss: 0.096600\n",
            "Train Epoch: 2 [50560/60000]\tLoss: 0.104838\n",
            "Train Epoch: 2 [51200/60000]\tLoss: 0.267683\n",
            "Train Epoch: 2 [51840/60000]\tLoss: 0.070560\n",
            "Train Epoch: 2 [52480/60000]\tLoss: 0.075095\n",
            "Train Epoch: 2 [53120/60000]\tLoss: 0.151750\n",
            "Train Epoch: 2 [53760/60000]\tLoss: 0.220052\n",
            "Train Epoch: 2 [54400/60000]\tLoss: 0.132177\n",
            "Train Epoch: 2 [55040/60000]\tLoss: 0.115188\n",
            "Train Epoch: 2 [55680/60000]\tLoss: 0.183304\n",
            "Train Epoch: 2 [56320/60000]\tLoss: 0.437532\n",
            "Train Epoch: 2 [56960/60000]\tLoss: 0.094161\n",
            "Train Epoch: 2 [57600/60000]\tLoss: 0.105832\n",
            "Train Epoch: 2 [58240/60000]\tLoss: 0.095733\n",
            "Train Epoch: 2 [58880/60000]\tLoss: 0.186672\n",
            "Train Epoch: 2 [59520/60000]\tLoss: 0.093512\n",
            "\n",
            "Test set: Avg. loss: 0.0815, Accuracy: 9746/10000 (97%)\n",
            "\n",
            "Train Epoch: 3 [0/60000]\tLoss: 0.096175\n",
            "Train Epoch: 3 [640/60000]\tLoss: 0.434349\n",
            "Train Epoch: 3 [1280/60000]\tLoss: 0.141180\n",
            "Train Epoch: 3 [1920/60000]\tLoss: 0.141908\n",
            "Train Epoch: 3 [2560/60000]\tLoss: 0.297926\n",
            "Train Epoch: 3 [3200/60000]\tLoss: 0.321071\n",
            "Train Epoch: 3 [3840/60000]\tLoss: 0.169911\n",
            "Train Epoch: 3 [4480/60000]\tLoss: 0.122064\n",
            "Train Epoch: 3 [5120/60000]\tLoss: 0.157709\n",
            "Train Epoch: 3 [5760/60000]\tLoss: 0.093397\n",
            "Train Epoch: 3 [6400/60000]\tLoss: 0.129941\n",
            "Train Epoch: 3 [7040/60000]\tLoss: 0.173725\n",
            "Train Epoch: 3 [7680/60000]\tLoss: 0.091731\n",
            "Train Epoch: 3 [8320/60000]\tLoss: 0.113594\n",
            "Train Epoch: 3 [8960/60000]\tLoss: 0.129763\n",
            "Train Epoch: 3 [9600/60000]\tLoss: 0.138502\n",
            "Train Epoch: 3 [10240/60000]\tLoss: 0.119254\n",
            "Train Epoch: 3 [10880/60000]\tLoss: 0.159991\n",
            "Train Epoch: 3 [11520/60000]\tLoss: 0.127613\n",
            "Train Epoch: 3 [12160/60000]\tLoss: 0.133623\n",
            "Train Epoch: 3 [12800/60000]\tLoss: 0.102936\n",
            "Train Epoch: 3 [13440/60000]\tLoss: 0.215653\n",
            "Train Epoch: 3 [14080/60000]\tLoss: 0.104245\n",
            "Train Epoch: 3 [14720/60000]\tLoss: 0.164586\n",
            "Train Epoch: 3 [15360/60000]\tLoss: 0.149177\n",
            "Train Epoch: 3 [16000/60000]\tLoss: 0.172189\n",
            "Train Epoch: 3 [16640/60000]\tLoss: 0.118682\n",
            "Train Epoch: 3 [17280/60000]\tLoss: 0.100010\n",
            "Train Epoch: 3 [17920/60000]\tLoss: 0.082520\n",
            "Train Epoch: 3 [18560/60000]\tLoss: 0.189245\n",
            "Train Epoch: 3 [19200/60000]\tLoss: 0.092448\n",
            "Train Epoch: 3 [19840/60000]\tLoss: 0.212952\n",
            "Train Epoch: 3 [20480/60000]\tLoss: 0.145230\n",
            "Train Epoch: 3 [21120/60000]\tLoss: 0.188309\n",
            "Train Epoch: 3 [21760/60000]\tLoss: 0.074016\n",
            "Train Epoch: 3 [22400/60000]\tLoss: 0.130510\n",
            "Train Epoch: 3 [23040/60000]\tLoss: 0.146554\n",
            "Train Epoch: 3 [23680/60000]\tLoss: 0.164370\n",
            "Train Epoch: 3 [24320/60000]\tLoss: 0.198382\n",
            "Train Epoch: 3 [24960/60000]\tLoss: 0.075979\n",
            "Train Epoch: 3 [25600/60000]\tLoss: 0.209085\n",
            "Train Epoch: 3 [26240/60000]\tLoss: 0.165089\n",
            "Train Epoch: 3 [26880/60000]\tLoss: 0.219430\n",
            "Train Epoch: 3 [27520/60000]\tLoss: 0.181911\n",
            "Train Epoch: 3 [28160/60000]\tLoss: 0.210197\n",
            "Train Epoch: 3 [28800/60000]\tLoss: 0.126308\n",
            "Train Epoch: 3 [29440/60000]\tLoss: 0.154963\n",
            "Train Epoch: 3 [30080/60000]\tLoss: 0.091187\n",
            "Train Epoch: 3 [30720/60000]\tLoss: 0.184733\n",
            "Train Epoch: 3 [31360/60000]\tLoss: 0.125909\n",
            "Train Epoch: 3 [32000/60000]\tLoss: 0.253816\n",
            "Train Epoch: 3 [32640/60000]\tLoss: 0.228679\n",
            "Train Epoch: 3 [33280/60000]\tLoss: 0.183725\n",
            "Train Epoch: 3 [33920/60000]\tLoss: 0.119452\n",
            "Train Epoch: 3 [34560/60000]\tLoss: 0.069799\n",
            "Train Epoch: 3 [35200/60000]\tLoss: 0.189689\n",
            "Train Epoch: 3 [35840/60000]\tLoss: 0.113473\n",
            "Train Epoch: 3 [36480/60000]\tLoss: 0.184101\n",
            "Train Epoch: 3 [37120/60000]\tLoss: 0.611732\n",
            "Train Epoch: 3 [37760/60000]\tLoss: 0.212494\n",
            "Train Epoch: 3 [38400/60000]\tLoss: 0.297807\n",
            "Train Epoch: 3 [39040/60000]\tLoss: 0.084540\n",
            "Train Epoch: 3 [39680/60000]\tLoss: 0.307117\n",
            "Train Epoch: 3 [40320/60000]\tLoss: 0.185447\n",
            "Train Epoch: 3 [40960/60000]\tLoss: 0.174134\n",
            "Train Epoch: 3 [41600/60000]\tLoss: 0.216686\n",
            "Train Epoch: 3 [42240/60000]\tLoss: 0.066406\n",
            "Train Epoch: 3 [42880/60000]\tLoss: 0.107110\n",
            "Train Epoch: 3 [43520/60000]\tLoss: 0.054965\n",
            "Train Epoch: 3 [44160/60000]\tLoss: 0.086238\n",
            "Train Epoch: 3 [44800/60000]\tLoss: 0.050184\n",
            "Train Epoch: 3 [45440/60000]\tLoss: 0.144680\n",
            "Train Epoch: 3 [46080/60000]\tLoss: 0.117453\n",
            "Train Epoch: 3 [46720/60000]\tLoss: 0.128641\n",
            "Train Epoch: 3 [47360/60000]\tLoss: 0.217922\n",
            "Train Epoch: 3 [48000/60000]\tLoss: 0.231061\n",
            "Train Epoch: 3 [48640/60000]\tLoss: 0.121829\n",
            "Train Epoch: 3 [49280/60000]\tLoss: 0.167660\n",
            "Train Epoch: 3 [49920/60000]\tLoss: 0.116590\n",
            "Train Epoch: 3 [50560/60000]\tLoss: 0.133720\n",
            "Train Epoch: 3 [51200/60000]\tLoss: 0.176732\n",
            "Train Epoch: 3 [51840/60000]\tLoss: 0.104331\n",
            "Train Epoch: 3 [52480/60000]\tLoss: 0.205045\n",
            "Train Epoch: 3 [53120/60000]\tLoss: 0.086683\n",
            "Train Epoch: 3 [53760/60000]\tLoss: 0.300818\n",
            "Train Epoch: 3 [54400/60000]\tLoss: 0.149906\n",
            "Train Epoch: 3 [55040/60000]\tLoss: 0.111484\n",
            "Train Epoch: 3 [55680/60000]\tLoss: 0.127802\n",
            "Train Epoch: 3 [56320/60000]\tLoss: 0.210611\n",
            "Train Epoch: 3 [56960/60000]\tLoss: 0.238003\n",
            "Train Epoch: 3 [57600/60000]\tLoss: 0.093645\n",
            "Train Epoch: 3 [58240/60000]\tLoss: 0.203477\n",
            "Train Epoch: 3 [58880/60000]\tLoss: 0.163317\n",
            "Train Epoch: 3 [59520/60000]\tLoss: 0.122873\n",
            "\n",
            "Test set: Avg. loss: 0.0699, Accuracy: 9794/10000 (98%)\n",
            "\n"
          ]
        }
      ]
    },
    {
      "cell_type": "code",
      "source": [
        "# Run network on data we got before and show predictions\n",
        "output = model(example_data)\n",
        "\n",
        "fig = plt.figure()\n",
        "for i in range(10):\n",
        "  plt.subplot(5,5,i+1)\n",
        "  plt.tight_layout()\n",
        "  plt.imshow(example_data[i][0], cmap='gray', interpolation='none')\n",
        "  plt.title(\"Prediction: {}\".format(\n",
        "    output.data.max(1, keepdim=True)[1][i].item()))\n",
        "  plt.xticks([])\n",
        "  plt.yticks([])\n",
        "plt.show()"
      ],
      "metadata": {
        "id": "o7fRUAy9Se1B",
        "outputId": "f1ddaeb5-07b4-491c-baca-6b2b84c0d3d3",
        "colab": {
          "base_uri": "https://localhost:8080/",
          "height": 242
        }
      },
      "execution_count": 34,
      "outputs": [
        {
          "output_type": "stream",
          "name": "stderr",
          "text": [
            "<ipython-input-28-6d55794a5bea>:46: UserWarning: Implicit dimension choice for log_softmax has been deprecated. Change the call to include dim=X as an argument.\n",
            "  x = F.log_softmax(x)\n"
          ]
        },
        {
          "output_type": "display_data",
          "data": {
            "text/plain": [
              "<Figure size 640x480 with 10 Axes>"
            ],
            "image/png": "[encoded data removed]"
          },
          "metadata": {}
        }
      ]
    }
  ]
}