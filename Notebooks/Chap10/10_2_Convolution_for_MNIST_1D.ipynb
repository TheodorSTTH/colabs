{
  "nbformat": 4,
  "nbformat_minor": 0,
  "metadata": {
    "colab": {
      "provenance": [],
      "include_colab_link": true
    },
    "kernelspec": {
      "name": "python3",
      "display_name": "Python 3"
    },
    "language_info": {
      "name": "python"
    }
  },
  "cells": [
    {
      "cell_type": "markdown",
      "metadata": {
        "id": "view-in-github",
        "colab_type": "text"
      },
      "source": [
        "<a href=\"https://colab.research.google.com/github/TheodorSTTH/colabs/blob/main/Notebooks/Chap10/10_2_Convolution_for_MNIST_1D.ipynb\" target=\"_parent\"><img src=\"https://colab.research.google.com/assets/colab-badge.svg\" alt=\"Open In Colab\"/></a>"
      ]
    },
    {
      "cell_type": "markdown",
      "source": [
        "# **Notebook 10.2: Convolution for MNIST-1D**\n",
        "\n",
        "This notebook investigates a 1D convolutional network for MNIST-1D as in figure 10.7 and 10.8a.\n",
        "\n",
        "Work through the cells below, running each cell in turn. In various places you will see the words \"TODO\". Follow the instructions at these places and make predictions about what is going to happen or write code to complete the functions.\n",
        "\n",
        "Contact me at udlbookmail@gmail.com if you find any mistakes or have any suggestions.\n",
        "\n"
      ],
      "metadata": {
        "id": "t9vk9Elugvmi"
      }
    },
    {
      "cell_type": "code",
      "source": [
        "# Run this if you're in a Colab to install MNIST 1D repository\n",
        "!pip install git+https://github.com/greydanus/mnist1d"
      ],
      "metadata": {
        "id": "D5yLObtZCi9J",
        "collapsed": true,
        "outputId": "51455f21-7c65-4a46-e2d3-3e90e1f9a538",
        "colab": {
          "base_uri": "https://localhost:8080/"
        }
      },
      "execution_count": 1,
      "outputs": [
        {
          "output_type": "stream",
          "name": "stdout",
          "text": [
            "Collecting git+https://github.com/greydanus/mnist1d\n",
            "  Cloning https://github.com/greydanus/mnist1d to /tmp/pip-req-build-46sf9wfm\n",
            "  Running command git clone --filter=blob:none --quiet https://github.com/greydanus/mnist1d /tmp/pip-req-build-46sf9wfm\n",
            "  Resolved https://github.com/greydanus/mnist1d to commit 7878d96082abd200c546a07a4101fa90b30fdf7e\n",
            "  Installing build dependencies ... \u001b[?25l\u001b[?25hdone\n",
            "  Getting requirements to build wheel ... \u001b[?25l\u001b[?25hdone\n",
            "  Preparing metadata (pyproject.toml) ... \u001b[?25l\u001b[?25hdone\n",
            "Requirement already satisfied: requests in /usr/local/lib/python3.11/dist-packages (from mnist1d==0.0.2.post16) (2.32.3)\n",
            "Requirement already satisfied: numpy in /usr/local/lib/python3.11/dist-packages (from mnist1d==0.0.2.post16) (1.26.4)\n",
            "Requirement already satisfied: matplotlib in /usr/local/lib/python3.11/dist-packages (from mnist1d==0.0.2.post16) (3.10.0)\n",
            "Requirement already satisfied: scipy in /usr/local/lib/python3.11/dist-packages (from mnist1d==0.0.2.post16) (1.13.1)\n",
            "Requirement already satisfied: contourpy>=1.0.1 in /usr/local/lib/python3.11/dist-packages (from matplotlib->mnist1d==0.0.2.post16) (1.3.1)\n",
            "Requirement already satisfied: cycler>=0.10 in /usr/local/lib/python3.11/dist-packages (from matplotlib->mnist1d==0.0.2.post16) (0.12.1)\n",
            "Requirement already satisfied: fonttools>=4.22.0 in /usr/local/lib/python3.11/dist-packages (from matplotlib->mnist1d==0.0.2.post16) (4.56.0)\n",
            "Requirement already satisfied: kiwisolver>=1.3.1 in /usr/local/lib/python3.11/dist-packages (from matplotlib->mnist1d==0.0.2.post16) (1.4.8)\n",
            "Requirement already satisfied: packaging>=20.0 in /usr/local/lib/python3.11/dist-packages (from matplotlib->mnist1d==0.0.2.post16) (24.2)\n",
            "Requirement already satisfied: pillow>=8 in /usr/local/lib/python3.11/dist-packages (from matplotlib->mnist1d==0.0.2.post16) (11.1.0)\n",
            "Requirement already satisfied: pyparsing>=2.3.1 in /usr/local/lib/python3.11/dist-packages (from matplotlib->mnist1d==0.0.2.post16) (3.2.1)\n",
            "Requirement already satisfied: python-dateutil>=2.7 in /usr/local/lib/python3.11/dist-packages (from matplotlib->mnist1d==0.0.2.post16) (2.8.2)\n",
            "Requirement already satisfied: charset-normalizer<4,>=2 in /usr/local/lib/python3.11/dist-packages (from requests->mnist1d==0.0.2.post16) (3.4.1)\n",
            "Requirement already satisfied: idna<4,>=2.5 in /usr/local/lib/python3.11/dist-packages (from requests->mnist1d==0.0.2.post16) (3.10)\n",
            "Requirement already satisfied: urllib3<3,>=1.21.1 in /usr/local/lib/python3.11/dist-packages (from requests->mnist1d==0.0.2.post16) (2.3.0)\n",
            "Requirement already satisfied: certifi>=2017.4.17 in /usr/local/lib/python3.11/dist-packages (from requests->mnist1d==0.0.2.post16) (2025.1.31)\n",
            "Requirement already satisfied: six>=1.5 in /usr/local/lib/python3.11/dist-packages (from python-dateutil>=2.7->matplotlib->mnist1d==0.0.2.post16) (1.17.0)\n",
            "Building wheels for collected packages: mnist1d\n",
            "  Building wheel for mnist1d (pyproject.toml) ... \u001b[?25l\u001b[?25hdone\n",
            "  Created wheel for mnist1d: filename=mnist1d-0.0.2.post16-py3-none-any.whl size=14626 sha256=3822cb94c0168b55af9c1cad01ed308e4482761941453166f63db71f628772c1\n",
            "  Stored in directory: /tmp/pip-ephem-wheel-cache-nheinvr7/wheels/d6/38/42/3d2112bc7d915f6195254ac85eb761d922d1b18f52817aa8e2\n",
            "Successfully built mnist1d\n",
            "Installing collected packages: mnist1d\n",
            "Successfully installed mnist1d-0.0.2.post16\n"
          ]
        }
      ]
    },
    {
      "cell_type": "code",
      "source": [
        "import numpy as np\n",
        "import os\n",
        "import torch, torch.nn as nn\n",
        "from torch.utils.data import TensorDataset, DataLoader\n",
        "from torch.optim.lr_scheduler import StepLR\n",
        "import matplotlib.pyplot as plt\n",
        "import mnist1d\n",
        "import random"
      ],
      "metadata": {
        "id": "YrXWAH7sUWvU"
      },
      "execution_count": 2,
      "outputs": []
    },
    {
      "cell_type": "code",
      "source": [
        "args = mnist1d.data.get_dataset_args()\n",
        "data = mnist1d.data.get_dataset(args, path='./mnist1d_data.pkl', download=False, regenerate=False)\n",
        "\n",
        "# The training and test input and outputs are in\n",
        "# data['x'], data['y'], data['x_test'], and data['y_test']\n",
        "print(\"Examples in training set: {}\".format(len(data['y'])))\n",
        "print(\"Examples in test set: {}\".format(len(data['y_test'])))\n",
        "print(\"Length of each example: {}\".format(data['x'].shape[-1]))"
      ],
      "metadata": {
        "id": "twI72ZCrCt5z",
        "outputId": "b118a876-e8b2-40bb-a032-6646e4140db4",
        "colab": {
          "base_uri": "https://localhost:8080/"
        }
      },
      "execution_count": 3,
      "outputs": [
        {
          "output_type": "stream",
          "name": "stdout",
          "text": [
            "Did or could not load data from ./mnist1d_data.pkl. Rebuilding dataset...\n",
            "Examples in training set: 4000\n",
            "Examples in test set: 1000\n",
            "Length of each example: 40\n"
          ]
        }
      ]
    },
    {
      "cell_type": "code",
      "source": [
        "# Load in the data\n",
        "train_data_x = data['x'].transpose()\n",
        "train_data_y = data['y']\n",
        "val_data_x = data['x_test'].transpose()\n",
        "val_data_y = data['y_test']\n",
        "# Print out sizes\n",
        "print(\"Train data: %d examples (columns), each of which has %d dimensions (rows)\"%((train_data_x.shape[1],train_data_x.shape[0])))\n",
        "print(\"Validation data: %d examples (columns), each of which has %d dimensions (rows)\"%((val_data_x.shape[1],val_data_x.shape[0])))"
      ],
      "metadata": {
        "id": "8bKADvLHbiV5",
        "outputId": "0cec990a-ac5d-4dff-943f-0bb2af6bf277",
        "colab": {
          "base_uri": "https://localhost:8080/"
        }
      },
      "execution_count": 4,
      "outputs": [
        {
          "output_type": "stream",
          "name": "stdout",
          "text": [
            "Train data: 4000 examples (columns), each of which has 40 dimensions (rows)\n",
            "Validation data: 1000 examples (columns), each of which has 40 dimensions (rows)\n"
          ]
        }
      ]
    },
    {
      "cell_type": "markdown",
      "source": [
        "Define the network"
      ],
      "metadata": {
        "id": "_sFvRDGrl4qe"
      }
    },
    {
      "cell_type": "code",
      "source": [
        "# There are 40 input dimensions and 10 output dimensions for this data\n",
        "# The inputs correspond to the 40 offsets in the MNIST1D template.\n",
        "D_i = 40\n",
        "# The outputs correspond to the 10 digits\n",
        "D_o = 10\n",
        "\n",
        "\n",
        "# TODO Create a model with the following layers\n",
        "# 1. Convolutional layer, (input=length 40 and 1 channel, kernel size 3, stride 2, padding=\"valid\", 15 output channels )\n",
        "# 2. ReLU\n",
        "# 3. Convolutional layer, (input=length 19 and 15 channels, kernel size 3, stride 2, padding=\"valid\", 15 output channels )\n",
        "# 4. ReLU\n",
        "# 5. Convolutional layer, (input=length 9 and 15 channels, kernel size 3, stride 2, padding=\"valid\", 15 output channels)\n",
        "# 6. ReLU\n",
        "# 7. Flatten (converts 4x15) to length 60\n",
        "# 8. Linear layer (input size = 60, output size = 10)\n",
        "# References:\n",
        "# https://pytorch.org/docs/1.13/generated/torch.nn.Conv1d.html?highlight=conv1d#torch.nn.Conv1d\n",
        "# https://pytorch.org/docs/stable/generated/torch.nn.Flatten.html\n",
        "# https://pytorch.org/docs/1.13/generated/torch.nn.Linear.html?highlight=linear#torch.nn.Linear\n",
        "\n",
        "# NOTE THAT THE CONVOLUTIONAL LAYERS NEED TO TAKE THE NUMBER OF INPUT CHANNELS AS A PARAMETER\n",
        "# AND NOT THE INPUT SIZE.\n",
        "\n",
        "# Replace the following function:\n",
        "model = nn.Sequential(\n",
        "    nn.Conv1d(in_channels=1, out_channels=60, kernel_size=3, stride=2, padding=0),\n",
        "    nn.ReLU(),\n",
        "    nn.Conv1d(in_channels=60, out_channels=60, kernel_size=3, stride=2, padding=0),\n",
        "    nn.ReLU(),\n",
        "    nn.Conv1d(in_channels=60, out_channels=15, kernel_size=3, stride=2, padding=0),\n",
        "    nn.ReLU(),\n",
        "    nn.Flatten(),\n",
        "    nn.Linear(60, 60),\n",
        "    nn.ReLU(),\n",
        "    nn.Linear(60, 60),\n",
        "    nn.ReLU(),\n",
        "    nn.Linear(60, D_o),\n",
        "    # nn.ReLU(),\n",
        "    # nn.Linear(100, 10)\n",
        ")\n",
        "\n",
        "\n",
        "\n"
      ],
      "metadata": {
        "id": "FslroPJJffrh"
      },
      "execution_count": 89,
      "outputs": []
    },
    {
      "cell_type": "code",
      "source": [
        "# He initialization of weights\n",
        "def weights_init(layer_in):\n",
        "  if isinstance(layer_in, nn.Linear):\n",
        "    nn.init.kaiming_uniform_(layer_in.weight)\n",
        "    layer_in.bias.data.fill_(0.0)"
      ],
      "metadata": {
        "id": "YgLaex1pfhqz"
      },
      "execution_count": 90,
      "outputs": []
    },
    {
      "cell_type": "code",
      "source": [
        "# choose cross entropy loss function (equation 5.24 in the loss notes)\n",
        "loss_function = nn.CrossEntropyLoss()\n",
        "# construct SGD optimizer and initialize learning rate and momentum\n",
        "optimizer = torch.optim.SGD(model.parameters(), lr = 0.05, momentum=0.9)\n",
        "# object that decreases learning rate by half every 20 epochs\n",
        "scheduler = StepLR(optimizer, step_size=20, gamma=0.5)\n",
        "# create 100 dummy data points and store in data loader class\n",
        "x_train = torch.tensor(train_data_x.transpose().astype('float32'))\n",
        "y_train = torch.tensor(train_data_y.astype('long')).long()\n",
        "x_val= torch.tensor(val_data_x.transpose().astype('float32'))\n",
        "y_val = torch.tensor(val_data_y.astype('long')).long()\n",
        "\n",
        "# load the data into a class that creates the batches\n",
        "data_loader = DataLoader(TensorDataset(x_train,y_train), batch_size=100, shuffle=True, worker_init_fn=np.random.seed(1))\n",
        "\n",
        "# Initialize model weights\n",
        "model.apply(weights_init)\n",
        "\n",
        "# loop over the dataset n_epoch times\n",
        "n_epoch = 100\n",
        "# store the loss and the % correct at each epoch\n",
        "losses_train = np.zeros((n_epoch))\n",
        "errors_train = np.zeros((n_epoch))\n",
        "losses_val = np.zeros((n_epoch))\n",
        "errors_val = np.zeros((n_epoch))\n",
        "\n",
        "for epoch in range(n_epoch):\n",
        "  # loop over batches\n",
        "  for i, data in enumerate(data_loader):\n",
        "    # retrieve inputs and labels for this batch\n",
        "    x_batch, y_batch = data\n",
        "    # zero the parameter gradients\n",
        "    optimizer.zero_grad()\n",
        "    # forward pass -- calculate model output\n",
        "    pred = model(x_batch[:,None,:])\n",
        "    # compute the loss\n",
        "    loss = loss_function(pred, y_batch)\n",
        "    # backward pass\n",
        "    loss.backward()\n",
        "    # SGD update\n",
        "    optimizer.step()\n",
        "\n",
        "  # Run whole dataset to get statistics -- normally wouldn't do this\n",
        "  pred_train = model(x_train[:,None,:])\n",
        "  pred_val = model(x_val[:,None,:])\n",
        "  _, predicted_train_class = torch.max(pred_train.data, 1)\n",
        "  _, predicted_val_class = torch.max(pred_val.data, 1)\n",
        "  errors_train[epoch] = 100 - 100 * (predicted_train_class == y_train).float().sum() / len(y_train)\n",
        "  errors_val[epoch]= 100 - 100 * (predicted_val_class == y_val).float().sum() / len(y_val)\n",
        "  losses_train[epoch] = loss_function(pred_train, y_train).item()\n",
        "  losses_val[epoch]= loss_function(pred_val, y_val).item()\n",
        "  print(f'Epoch {epoch:5d}, train loss {losses_train[epoch]:.6f}, train error {errors_train[epoch]:3.2f},  val loss {losses_val[epoch]:.6f}, percent error {errors_val[epoch]:3.2f}')\n",
        "\n",
        "  # tell scheduler to consider updating learning rate\n",
        "  scheduler.step()\n",
        "\n",
        "# Plot the results\n",
        "fig, ax = plt.subplots()\n",
        "ax.plot(errors_train,'r-',label='train')\n",
        "ax.plot(errors_val,'b-',label='validation')\n",
        "ax.set_ylim(0,100); ax.set_xlim(0,n_epoch)\n",
        "ax.set_xlabel('Epoch'); ax.set_ylabel('Error')\n",
        "ax.set_title('Part I: Validation Result %3.2f'%(errors_val[-1]))\n",
        "ax.legend()\n",
        "plt.show()"
      ],
      "metadata": {
        "id": "NYw8I_3mmX5c",
        "outputId": "fa09cd6c-061b-40eb-8112-802479b58255",
        "colab": {
          "base_uri": "https://localhost:8080/",
          "height": 1000
        }
      },
      "execution_count": 91,
      "outputs": [
        {
          "output_type": "stream",
          "name": "stdout",
          "text": [
            "Epoch     0, train loss 1.672820, train error 65.15,  val loss 1.687822, percent error 67.30\n",
            "Epoch     1, train loss 1.373390, train error 55.35,  val loss 1.383808, percent error 58.60\n",
            "Epoch     2, train loss 1.393172, train error 56.42,  val loss 1.421891, percent error 56.40\n",
            "Epoch     3, train loss 1.099077, train error 45.20,  val loss 1.142724, percent error 48.80\n",
            "Epoch     4, train loss 0.952019, train error 40.70,  val loss 1.032127, percent error 43.50\n",
            "Epoch     5, train loss 1.006207, train error 41.55,  val loss 1.073174, percent error 46.10\n",
            "Epoch     6, train loss 0.716589, train error 30.10,  val loss 0.851317, percent error 36.00\n",
            "Epoch     7, train loss 0.715572, train error 29.88,  val loss 0.827844, percent error 34.50\n",
            "Epoch     8, train loss 0.631091, train error 25.53,  val loss 0.743064, percent error 30.00\n",
            "Epoch     9, train loss 0.478679, train error 19.82,  val loss 0.623230, percent error 25.30\n",
            "Epoch    10, train loss 0.453210, train error 18.03,  val loss 0.602117, percent error 23.30\n",
            "Epoch    11, train loss 0.379690, train error 15.88,  val loss 0.565132, percent error 22.00\n",
            "Epoch    12, train loss 0.494862, train error 20.38,  val loss 0.683461, percent error 26.30\n",
            "Epoch    13, train loss 0.299409, train error 12.90,  val loss 0.504484, percent error 19.90\n",
            "Epoch    14, train loss 0.219171, train error 8.00,  val loss 0.382889, percent error 15.20\n",
            "Epoch    15, train loss 0.256133, train error 9.35,  val loss 0.485324, percent error 15.30\n",
            "Epoch    16, train loss 0.255229, train error 10.35,  val loss 0.481965, percent error 17.70\n",
            "Epoch    17, train loss 0.223678, train error 9.22,  val loss 0.463935, percent error 16.60\n",
            "Epoch    18, train loss 0.258632, train error 10.30,  val loss 0.474462, percent error 14.80\n",
            "Epoch    19, train loss 0.163048, train error 6.20,  val loss 0.425978, percent error 12.30\n",
            "Epoch    20, train loss 0.067436, train error 2.15,  val loss 0.325949, percent error 10.10\n",
            "Epoch    21, train loss 0.056695, train error 1.70,  val loss 0.287601, percent error 8.40\n",
            "Epoch    22, train loss 0.068180, train error 2.28,  val loss 0.328037, percent error 10.60\n",
            "Epoch    23, train loss 0.034464, train error 1.03,  val loss 0.316378, percent error 8.90\n",
            "Epoch    24, train loss 0.047262, train error 1.57,  val loss 0.346621, percent error 10.60\n",
            "Epoch    25, train loss 0.047493, train error 1.60,  val loss 0.384460, percent error 10.30\n",
            "Epoch    26, train loss 0.048266, train error 1.53,  val loss 0.375623, percent error 10.00\n",
            "Epoch    27, train loss 0.039991, train error 1.40,  val loss 0.407695, percent error 10.60\n",
            "Epoch    28, train loss 0.020961, train error 0.55,  val loss 0.341814, percent error 8.10\n",
            "Epoch    29, train loss 0.025466, train error 0.78,  val loss 0.350395, percent error 8.50\n",
            "Epoch    30, train loss 0.018838, train error 0.60,  val loss 0.367902, percent error 9.70\n",
            "Epoch    31, train loss 0.009476, train error 0.15,  val loss 0.316823, percent error 8.10\n",
            "Epoch    32, train loss 0.008516, train error 0.10,  val loss 0.351970, percent error 8.00\n",
            "Epoch    33, train loss 0.015242, train error 0.53,  val loss 0.393580, percent error 8.70\n",
            "Epoch    34, train loss 0.008658, train error 0.12,  val loss 0.376624, percent error 8.70\n",
            "Epoch    35, train loss 0.004285, train error 0.03,  val loss 0.382533, percent error 8.20\n",
            "Epoch    36, train loss 0.003083, train error 0.00,  val loss 0.380019, percent error 8.20\n",
            "Epoch    37, train loss 0.002997, train error 0.00,  val loss 0.382065, percent error 8.10\n",
            "Epoch    38, train loss 0.002258, train error 0.00,  val loss 0.387112, percent error 8.20\n",
            "Epoch    39, train loss 0.001950, train error 0.00,  val loss 0.392206, percent error 8.00\n",
            "Epoch    40, train loss 0.001892, train error 0.00,  val loss 0.394713, percent error 8.80\n",
            "Epoch    41, train loss 0.001728, train error 0.00,  val loss 0.395403, percent error 8.20\n",
            "Epoch    42, train loss 0.001645, train error 0.00,  val loss 0.400534, percent error 8.30\n",
            "Epoch    43, train loss 0.001578, train error 0.00,  val loss 0.400633, percent error 8.20\n",
            "Epoch    44, train loss 0.001513, train error 0.00,  val loss 0.406233, percent error 8.50\n",
            "Epoch    45, train loss 0.001465, train error 0.00,  val loss 0.407907, percent error 8.40\n",
            "Epoch    46, train loss 0.001405, train error 0.00,  val loss 0.410012, percent error 8.30\n",
            "Epoch    47, train loss 0.001373, train error 0.00,  val loss 0.413424, percent error 8.40\n",
            "Epoch    48, train loss 0.001342, train error 0.00,  val loss 0.414491, percent error 8.50\n",
            "Epoch    49, train loss 0.001267, train error 0.00,  val loss 0.416258, percent error 8.20\n",
            "Epoch    50, train loss 0.001232, train error 0.00,  val loss 0.417596, percent error 8.40\n",
            "Epoch    51, train loss 0.001200, train error 0.00,  val loss 0.421513, percent error 8.60\n",
            "Epoch    52, train loss 0.001156, train error 0.00,  val loss 0.423438, percent error 8.20\n",
            "Epoch    53, train loss 0.001135, train error 0.00,  val loss 0.422349, percent error 8.50\n",
            "Epoch    54, train loss 0.001091, train error 0.00,  val loss 0.425372, percent error 8.30\n",
            "Epoch    55, train loss 0.001061, train error 0.00,  val loss 0.427311, percent error 8.30\n",
            "Epoch    56, train loss 0.001031, train error 0.00,  val loss 0.427921, percent error 8.20\n",
            "Epoch    57, train loss 0.001010, train error 0.00,  val loss 0.430588, percent error 8.30\n",
            "Epoch    58, train loss 0.000984, train error 0.00,  val loss 0.433406, percent error 8.30\n",
            "Epoch    59, train loss 0.000963, train error 0.00,  val loss 0.433129, percent error 8.30\n",
            "Epoch    60, train loss 0.000943, train error 0.00,  val loss 0.435143, percent error 8.30\n",
            "Epoch    61, train loss 0.000930, train error 0.00,  val loss 0.436411, percent error 8.30\n",
            "Epoch    62, train loss 0.000920, train error 0.00,  val loss 0.436800, percent error 8.40\n",
            "Epoch    63, train loss 0.000909, train error 0.00,  val loss 0.436800, percent error 8.40\n",
            "Epoch    64, train loss 0.000898, train error 0.00,  val loss 0.438026, percent error 8.40\n",
            "Epoch    65, train loss 0.000890, train error 0.00,  val loss 0.439026, percent error 8.40\n",
            "Epoch    66, train loss 0.000877, train error 0.00,  val loss 0.439290, percent error 8.40\n",
            "Epoch    67, train loss 0.000868, train error 0.00,  val loss 0.440335, percent error 8.40\n",
            "Epoch    68, train loss 0.000860, train error 0.00,  val loss 0.441171, percent error 8.40\n",
            "Epoch    69, train loss 0.000849, train error 0.00,  val loss 0.441154, percent error 8.40\n",
            "Epoch    70, train loss 0.000840, train error 0.00,  val loss 0.442280, percent error 8.40\n",
            "Epoch    71, train loss 0.000830, train error 0.00,  val loss 0.442341, percent error 8.40\n",
            "Epoch    72, train loss 0.000821, train error 0.00,  val loss 0.443740, percent error 8.40\n",
            "Epoch    73, train loss 0.000812, train error 0.00,  val loss 0.443884, percent error 8.50\n",
            "Epoch    74, train loss 0.000807, train error 0.00,  val loss 0.444487, percent error 8.40\n",
            "Epoch    75, train loss 0.000796, train error 0.00,  val loss 0.444970, percent error 8.40\n",
            "Epoch    76, train loss 0.000787, train error 0.00,  val loss 0.446008, percent error 8.40\n",
            "Epoch    77, train loss 0.000779, train error 0.00,  val loss 0.446470, percent error 8.40\n",
            "Epoch    78, train loss 0.000771, train error 0.00,  val loss 0.447367, percent error 8.50\n",
            "Epoch    79, train loss 0.000763, train error 0.00,  val loss 0.448362, percent error 8.50\n",
            "Epoch    80, train loss 0.000759, train error 0.00,  val loss 0.449128, percent error 8.50\n",
            "Epoch    81, train loss 0.000755, train error 0.00,  val loss 0.448640, percent error 8.40\n",
            "Epoch    82, train loss 0.000752, train error 0.00,  val loss 0.449193, percent error 8.40\n",
            "Epoch    83, train loss 0.000748, train error 0.00,  val loss 0.449460, percent error 8.40\n",
            "Epoch    84, train loss 0.000744, train error 0.00,  val loss 0.449831, percent error 8.40\n",
            "Epoch    85, train loss 0.000741, train error 0.00,  val loss 0.449961, percent error 8.40\n",
            "Epoch    86, train loss 0.000737, train error 0.00,  val loss 0.450494, percent error 8.60\n",
            "Epoch    87, train loss 0.000733, train error 0.00,  val loss 0.450492, percent error 8.50\n",
            "Epoch    88, train loss 0.000730, train error 0.00,  val loss 0.450722, percent error 8.50\n",
            "Epoch    89, train loss 0.000726, train error 0.00,  val loss 0.451033, percent error 8.50\n",
            "Epoch    90, train loss 0.000723, train error 0.00,  val loss 0.451312, percent error 8.50\n",
            "Epoch    91, train loss 0.000720, train error 0.00,  val loss 0.451719, percent error 8.50\n",
            "Epoch    92, train loss 0.000716, train error 0.00,  val loss 0.452021, percent error 8.50\n",
            "Epoch    93, train loss 0.000713, train error 0.00,  val loss 0.452218, percent error 8.60\n",
            "Epoch    94, train loss 0.000709, train error 0.00,  val loss 0.452466, percent error 8.50\n",
            "Epoch    95, train loss 0.000707, train error 0.00,  val loss 0.453117, percent error 8.60\n",
            "Epoch    96, train loss 0.000703, train error 0.00,  val loss 0.453363, percent error 8.60\n",
            "Epoch    97, train loss 0.000699, train error 0.00,  val loss 0.453442, percent error 8.50\n",
            "Epoch    98, train loss 0.000696, train error 0.00,  val loss 0.453797, percent error 8.60\n",
            "Epoch    99, train loss 0.000693, train error 0.00,  val loss 0.453760, percent error 8.60\n"
          ]
        },
        {
          "output_type": "display_data",
          "data": {
            "text/plain": [
              "<Figure size 640x480 with 1 Axes>"
            ],
            "image/png": "[encoded data removed]"
          },
          "metadata": {}
        }
      ]
    },
    {
      "cell_type": "code",
      "source": [],
      "metadata": {
        "id": "byCPGfso7VUB"
      },
      "execution_count": null,
      "outputs": []
    }
  ]
}