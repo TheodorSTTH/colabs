{
  "nbformat": 4,
  "nbformat_minor": 0,
  "metadata": {
    "colab": {
      "provenance": [],
      "include_colab_link": true
    },
    "kernelspec": {
      "name": "python3",
      "display_name": "Python 3"
    },
    "language_info": {
      "name": "python"
    }
  },
  "cells": [
    {
      "cell_type": "markdown",
      "metadata": {
        "id": "view-in-github",
        "colab_type": "text"
      },
      "source": [
        "<a href=\"https://colab.research.google.com/github/TheodorSTTH/colabs/blob/main/Notebooks/Chap12/12_1_Self_Attention.ipynb\" target=\"_parent\"><img src=\"https://colab.research.google.com/assets/colab-badge.svg\" alt=\"Open In Colab\"/></a>"
      ]
    },
    {
      "cell_type": "markdown",
      "source": [
        "# **Notebook 12.1: Self Attention**\n",
        "\n",
        "This notebook builds a self-attention mechanism from scratch, as discussed in section 12.2 of the book.\n",
        "\n",
        "Work through the cells below, running each cell in turn. In various places you will see the words \"TODO\". Follow the instructions at these places and make predictions about what is going to happen or write code to complete the functions.\n",
        "\n",
        "Contact me at udlbookmail@gmail.com if you find any mistakes or have any suggestions.\n",
        "\n"
      ],
      "metadata": {
        "id": "t9vk9Elugvmi"
      }
    },
    {
      "cell_type": "code",
      "source": [
        "import numpy as np\n",
        "import matplotlib.pyplot as plt"
      ],
      "metadata": {
        "id": "OLComQyvCIJ7"
      },
      "execution_count": 1,
      "outputs": []
    },
    {
      "cell_type": "markdown",
      "source": [
        "The self-attention mechanism maps $N$ inputs $\\mathbf{x}_{n}\\in\\mathbb{R}^{D}$ and returns $N$ outputs $\\mathbf{x}'_{n}\\in \\mathbb{R}^{D}$.  \n",
        "\n"
      ],
      "metadata": {
        "id": "9OJkkoNqCVK2"
      }
    },
    {
      "cell_type": "code",
      "source": [
        "# Set seed so we get the same random numbers\n",
        "np.random.seed(3)\n",
        "# Number of inputs\n",
        "N = 3\n",
        "# Number of dimensions of each input\n",
        "D = 4\n",
        "# Create an empty list\n",
        "all_x = []\n",
        "# Create elements x_n and append to list\n",
        "for n in range(N):\n",
        "  all_x.append(np.random.normal(size=(D,1)))\n",
        "# Print out the list\n",
        "print(all_x)\n"
      ],
      "metadata": {
        "id": "oAygJwLiCSri",
        "colab": {
          "base_uri": "https://localhost:8080/"
        },
        "outputId": "b024c7ad-09a0-4c10-bf79-956860ce8088"
      },
      "execution_count": 2,
      "outputs": [
        {
          "output_type": "stream",
          "name": "stdout",
          "text": [
            "[array([[ 1.78862847],\n",
            "       [ 0.43650985],\n",
            "       [ 0.09649747],\n",
            "       [-1.8634927 ]]), array([[-0.2773882 ],\n",
            "       [-0.35475898],\n",
            "       [-0.08274148],\n",
            "       [-0.62700068]]), array([[-0.04381817],\n",
            "       [-0.47721803],\n",
            "       [-1.31386475],\n",
            "       [ 0.88462238]])]\n"
          ]
        }
      ]
    },
    {
      "cell_type": "markdown",
      "source": [
        "We'll also need the weights and biases for the keys, queries, and values (equations 12.2 and 12.4)"
      ],
      "metadata": {
        "id": "W2iHFbtKMaDp"
      }
    },
    {
      "cell_type": "code",
      "source": [
        "# Set seed so we get the same random numbers\n",
        "np.random.seed(0)\n",
        "\n",
        "# Choose random values for the parameters\n",
        "omega_q = np.random.normal(size=(D,D))\n",
        "omega_k = np.random.normal(size=(D,D))\n",
        "omega_v = np.random.normal(size=(D,D))\n",
        "beta_q = np.random.normal(size=(D,1))\n",
        "beta_k = np.random.normal(size=(D,1))\n",
        "beta_v = np.random.normal(size=(D,1))"
      ],
      "metadata": {
        "id": "79TSK7oLMobe"
      },
      "execution_count": 3,
      "outputs": []
    },
    {
      "cell_type": "markdown",
      "source": [
        "Now let's compute the queries, keys, and values for each input"
      ],
      "metadata": {
        "id": "VxaKQtP3Ng6R"
      }
    },
    {
      "cell_type": "code",
      "source": [
        "# Make three lists to store queries, keys, and values\n",
        "all_queries = []\n",
        "all_keys = []\n",
        "all_values = []\n",
        "# For every input\n",
        "for x in all_x:\n",
        "  # TODO -- compute the keys, queries and values.\n",
        "  # Replace these three lines\n",
        "  query = beta_q + omega_q@x\n",
        "  key = beta_k + omega_k@x\n",
        "  value = beta_v + omega_v@x\n",
        "\n",
        "  all_queries.append(query)\n",
        "  all_keys.append(key)\n",
        "  all_values.append(value)"
      ],
      "metadata": {
        "id": "TwDK2tfdNmw9"
      },
      "execution_count": 47,
      "outputs": []
    },
    {
      "cell_type": "markdown",
      "source": [
        "We'll need a softmax function (equation 12.5) -- here, it will take a list of arbitrary numbers and return a list where the elements are non-negative and sum to one\n"
      ],
      "metadata": {
        "id": "Se7DK6PGPSUk"
      }
    },
    {
      "cell_type": "code",
      "source": [
        "def softmax(items_in):\n",
        "  return np.exp(items_in) / np.sum(np.exp(items_in))"
      ],
      "metadata": {
        "id": "u93LIcE5PoiM"
      },
      "execution_count": 48,
      "outputs": []
    },
    {
      "cell_type": "markdown",
      "source": [
        "Now compute the self attention values:"
      ],
      "metadata": {
        "id": "8aJVhbKDW7lm"
      }
    },
    {
      "cell_type": "code",
      "source": [
        "# Create emptymlist for output\n",
        "all_x_prime = []\n",
        "\n",
        "# For each output\n",
        "for n in range(N): # loop over every input\n",
        "  # Create list for dot products of query N with all keys\n",
        "  all_km_qn = []\n",
        "  # Compute the dot products\n",
        "  for i, key in enumerate(all_keys):\n",
        "    # TODO -- compute the appropriate dot product\n",
        "    # Replace this line\n",
        "    #dot_product = np.dot(key.T[0].T, all_queries[n].T[0].T)\n",
        "    print(key)\n",
        "    cur_key = key\n",
        "    cur_query = all_queries[n]\n",
        "    dot_product = np.dot(cur_key.T, cur_query)\n",
        "\n",
        "    # Store dot product\n",
        "    all_km_qn.append(dot_product)\n",
        "  # Compute dot product\n",
        "  attention = softmax(all_km_qn)\n",
        "  # Print result (should be positive sum to one)\n",
        "  print(\"Attentions for output \", n)\n",
        "  print(attention)\n",
        "\n",
        "  # TODO: Compute a weighted sum of all of the values according to the attention\n",
        "  # (equation 12.3)\n",
        "  # Replace this line\n",
        "  x_prime = np.zeros((D,1))\n",
        "  x_prime = np.sum(attention * all_values, axis = 0)\n",
        "\n",
        "  all_x_prime.append(x_prime)\n",
        "\n",
        "\n",
        "# Print out true values to check you have it correct\n",
        "print(\"x_prime_0_calculated:\", all_x_prime[0].transpose())\n",
        "print(\"x_prime_0_true: [[ 0.94744244 -0.24348429 -0.91310441 -0.44522983]]\")\n",
        "print(\"x_prime_1_calculated:\", all_x_prime[1].transpose())\n",
        "print(\"x_prime_1_true: [[ 1.64201168 -0.08470004  4.02764044  2.18690791]]\")\n",
        "print(\"x_prime_2_calculated:\", all_x_prime[2].transpose())\n",
        "print(\"x_prime_2_true: [[ 1.61949281 -0.06641533  3.96863308  2.15858316]]\")\n"
      ],
      "metadata": {
        "id": "yimz-5nCW6vQ",
        "colab": {
          "base_uri": "https://localhost:8080/"
        },
        "outputId": "4293b3d0-cecb-44a8-ae35-74bb4b6d4b9e"
      },
      "execution_count": 50,
      "outputs": [
        {
          "output_type": "stream",
          "name": "stdout",
          "text": [
            "[[ 3.69380505]\n",
            " [-3.9952365 ]\n",
            " [ 3.7499519 ]\n",
            " [ 3.12154293]]\n",
            "[[-0.34284839]\n",
            " [-0.31052676]\n",
            " [-0.02825783]\n",
            " [-0.76803995]]\n",
            "[[-1.64524855]\n",
            " [-3.17297146]\n",
            " [ 0.34070328]\n",
            " [-0.20908514]]\n",
            "Attentions for output  0\n",
            "[[[1.24326146e-13]]\n",
            "\n",
            " [[9.98281489e-01]]\n",
            "\n",
            " [[1.71851130e-03]]]\n",
            "[[ 3.69380505]\n",
            " [-3.9952365 ]\n",
            " [ 3.7499519 ]\n",
            " [ 3.12154293]]\n",
            "[[-0.34284839]\n",
            " [-0.31052676]\n",
            " [-0.02825783]\n",
            " [-0.76803995]]\n",
            "[[-1.64524855]\n",
            " [-3.17297146]\n",
            " [ 0.34070328]\n",
            " [-0.20908514]]\n",
            "Attentions for output  1\n",
            "[[[2.79525306e-12]]\n",
            "\n",
            " [[5.85506360e-03]]\n",
            "\n",
            " [[9.94144936e-01]]]\n",
            "[[ 3.69380505]\n",
            " [-3.9952365 ]\n",
            " [ 3.7499519 ]\n",
            " [ 3.12154293]]\n",
            "[[-0.34284839]\n",
            " [-0.31052676]\n",
            " [-0.02825783]\n",
            " [-0.76803995]]\n",
            "[[-1.64524855]\n",
            " [-3.17297146]\n",
            " [ 0.34070328]\n",
            " [-0.20908514]]\n",
            "Attentions for output  2\n",
            "[[[0.00505708]]\n",
            "\n",
            " [[0.00654776]]\n",
            "\n",
            " [[0.98839516]]]\n",
            "x_prime_0_calculated: [[ 0.94744244 -0.24348429 -0.91310441 -0.44522983]]\n",
            "x_prime_0_true: [[ 0.94744244 -0.24348429 -0.91310441 -0.44522983]]\n",
            "x_prime_1_calculated: [[ 1.64201168 -0.08470004  4.02764044  2.18690791]]\n",
            "x_prime_1_true: [[ 1.64201168 -0.08470004  4.02764044  2.18690791]]\n",
            "x_prime_2_calculated: [[ 1.61949281 -0.06641533  3.96863308  2.15858316]]\n",
            "x_prime_2_true: [[ 1.61949281 -0.06641533  3.96863308  2.15858316]]\n"
          ]
        }
      ]
    },
    {
      "cell_type": "markdown",
      "source": [
        "Now let's compute the same thing, but using matrix calculations.  We'll store the $N$ inputs $\\mathbf{x}_{n}\\in\\mathbb{R}^{D}$ in the columns of a $D\\times N$ matrix, using equations 12.6 and 12.7/8.\n",
        "\n",
        "Note:  The book uses column vectors (for compatibility with the rest of the text), but in the wider literature it is more normal to store the inputs in the rows of a matrix;  in this case, the computation is the same, but all the matrices are transposed and the operations proceed in the reverse order."
      ],
      "metadata": {
        "id": "PJ2vCQ_7C38K"
      }
    },
    {
      "cell_type": "code",
      "source": [
        "# Define softmax operation that works independently on each column\n",
        "def softmax_cols(data_in):\n",
        "  # Exponentiate all of the values\n",
        "  exp_values = np.exp(data_in) ;\n",
        "  # Sum over columns\n",
        "  denom = np.sum(exp_values, axis = 0);\n",
        "  # Replicate denominator to N rows\n",
        "  denom = np.matmul(np.ones((data_in.shape[0],1)), denom[np.newaxis,:])\n",
        "  # Compute softmax\n",
        "  softmax = exp_values / denom\n",
        "  # return the answer\n",
        "  return softmax"
      ],
      "metadata": {
        "id": "obaQBdUAMXXv"
      },
      "execution_count": 51,
      "outputs": []
    },
    {
      "cell_type": "code",
      "source": [
        " # Now let's compute self attention in matrix form\n",
        "def self_attention(X,omega_v, omega_q, omega_k, beta_v, beta_q, beta_k):\n",
        "\n",
        "  # TODO -- Write this function\n",
        "  # 1. Compute queries, keys, and values\n",
        "  ones_vector = np.ones((N, 1))\n",
        "  Q = beta_q@ones_vector.T + omega_q@X\n",
        "  K = beta_k@ones_vector.T + omega_k@X\n",
        "  V = beta_v@ones_vector.T + omega_v@X\n",
        "  # 2. Compute dot products\n",
        "  K_dot_Q = K.T@Q\n",
        "  # 3. Apply softmax to calculate attentions\n",
        "  attention = softmax_cols(K_dot_Q) # /np.sqrt(D)\n",
        "  # 4. Weight values by attentions [[ 0.94744244 -0.24348429 -0.91310441 -0.44522983]]\")\n",
        "  X_prime = V@attention\n",
        "  print(\"attention: \")\n",
        "  print(np.round(attention, 4))\n",
        "\n",
        "  return X_prime\n",
        "#x_prime_0_calculated: [[ 0.94744244 -0.24348429 -0.91310441 -0.44522983]]\n",
        "#x_prime_0_true: [[ 0.94744244 -0.24348429 -0.91310441 -0.44522983]]\n",
        "#x_prime_1_calculated: [[ 1.64201168 -0.08470004  4.02764044  2.18690791]]\n",
        "#x_prime_1_true: [[ 1.64201168 -0.08470004  4.02764044  2.18690791]]\n",
        "#x_prime_2_calculated: [[ 1.61949281 -0.06641533  3.96863308  2.15858316]]\n",
        "#x_prime_2_true: [[ 1.61949281 -0.06641533  3.96863308  2.15858316]]"
      ],
      "metadata": {
        "id": "gb2WvQ3SiH8r"
      },
      "execution_count": 74,
      "outputs": []
    },
    {
      "cell_type": "code",
      "source": [
        "# Copy data into matrix\n",
        "X = np.zeros((D, N))\n",
        "X[:,0] = np.squeeze(all_x[0])\n",
        "X[:,1] = np.squeeze(all_x[1])\n",
        "X[:,2] = np.squeeze(all_x[2])\n",
        "\n",
        "# Run the self attention mechanism\n",
        "X_prime = self_attention(X,omega_v, omega_q, omega_k, beta_v, beta_q, beta_k)\n",
        "\n",
        "# Print out the results\n",
        "print(\"Results\")\n",
        "print(X_prime)"
      ],
      "metadata": {
        "id": "MUOJbgJskUpl",
        "colab": {
          "base_uri": "https://localhost:8080/"
        },
        "outputId": "0823de59-fcd2-4fd0-a82e-6c53df62c4e1"
      },
      "execution_count": 75,
      "outputs": [
        {
          "output_type": "stream",
          "name": "stdout",
          "text": [
            "attention: \n",
            "[[0.     0.     0.0051]\n",
            " [0.9983 0.0059 0.0065]\n",
            " [0.0017 0.9941 0.9884]]\n",
            "Results\n",
            "[[ 0.94744244  1.64201168  1.61949281]\n",
            " [-0.24348429 -0.08470004 -0.06641533]\n",
            " [-0.91310441  4.02764044  3.96863308]\n",
            " [-0.44522983  2.18690791  2.15858316]]\n"
          ]
        }
      ]
    },
    {
      "cell_type": "markdown",
      "source": [
        "If you did this correctly, the values should be the same as above.\n",
        "\n",
        "TODO:  \n",
        "\n",
        "Print out the attention matrix\n",
        "You will see that the values are quite extreme (one is very close to one and the others are very close to zero.  Now we'll fix this problem by using scaled dot-product attention."
      ],
      "metadata": {
        "id": "as_lRKQFpvz0"
      }
    },
    {
      "cell_type": "code",
      "source": [
        "# Now let's compute self attention in matrix form\n",
        "def scaled_dot_product_self_attention(X,omega_v, omega_q, omega_k, beta_v, beta_q, beta_k):\n",
        "\n",
        "  # TODO -- Write this function\n",
        "  # 1. Compute queries, keys, and values\n",
        "  ones_vector = np.ones((N, 1))\n",
        "  Q = beta_q@ones_vector.T + omega_q@X\n",
        "  K = beta_k@ones_vector.T + omega_k@X\n",
        "  V = beta_v@ones_vector.T + omega_v@X\n",
        "  # 2. Compute dot products\n",
        "  K_dot_Q = K.T@Q\n",
        "  # 3. Apply softmax to calculate attentions\n",
        "  D_q = X.shape[0]\n",
        "  print(f\"{D = }\")\n",
        "  print(f\"{D_q = }\")\n",
        "\n",
        "  attention = softmax_cols(K_dot_Q/np.sqrt(D)) #\n",
        "  # 4. Weight values by attentions [[ 0.94744244 -0.24348429 -0.91310441 -0.44522983]]\")\n",
        "  X_prime = V@attention\n",
        "  print(\"attention: \")\n",
        "  print(np.round(attention, 4))\n",
        "  return X_prime"
      ],
      "metadata": {
        "id": "kLU7PUnnqvIh"
      },
      "execution_count": 83,
      "outputs": []
    },
    {
      "cell_type": "code",
      "source": [
        "# Run the self attention mechanism\n",
        "X_prime = scaled_dot_product_self_attention(X,omega_v, omega_q, omega_k, beta_v, beta_q, beta_k)\n",
        "\n",
        "# Print out the results\n",
        "print(X_prime)"
      ],
      "metadata": {
        "id": "n18e3XNzmVgL",
        "colab": {
          "base_uri": "https://localhost:8080/"
        },
        "outputId": "1da5415e-bdc3-484c-9543-acf2c0feb0dd"
      },
      "execution_count": 84,
      "outputs": [
        {
          "output_type": "stream",
          "name": "stdout",
          "text": [
            "D = 4\n",
            "D_q = 4\n",
            "attention: \n",
            "[[0.     0.     0.062 ]\n",
            " [0.9602 0.0713 0.0706]\n",
            " [0.0398 0.9287 0.8674]]\n",
            "[[ 0.97411966  1.59622051  1.32638014]\n",
            " [-0.23738409 -0.09516106  0.13062402]\n",
            " [-0.72333202  3.70194096  3.02371664]\n",
            " [-0.34413007  2.01339538  1.6902419 ]]\n"
          ]
        }
      ]
    },
    {
      "cell_type": "markdown",
      "source": [
        "TODO -- Investigate whether the self-attention mechanism is covariant with respect to permutation.\n",
        "If it is, when we permute the columns of the input matrix $\\mathbf{X}$, the columns of the output matrix $\\mathbf{X}'$ will also be permuted.\n"
      ],
      "metadata": {
        "id": "QDEkIrcgrql-"
      }
    }
  ]
}